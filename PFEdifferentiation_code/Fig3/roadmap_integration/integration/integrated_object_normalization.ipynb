{
 "cells": [
  {
   "cell_type": "code",
   "execution_count": 3,
   "metadata": {},
   "outputs": [],
   "source": [
    "import scanpy as sc\n",
    "import numpy as np\n",
    "import scipy as sp\n",
    "import pandas as pd\n",
    "import matplotlib.pyplot as plt\n",
    "from matplotlib import rcParams\n",
    "from matplotlib import colors\n",
    "import seaborn as sb\n",
    "import logging\n",
    "\n",
    "import anndata\n"
   ]
  },
  {
   "cell_type": "code",
   "execution_count": 4,
   "metadata": {},
   "outputs": [],
   "source": [
    "sc.settings.set_figure_params(dpi=80)"
   ]
  },
  {
   "cell_type": "code",
   "execution_count": 8,
   "metadata": {},
   "outputs": [],
   "source": [
    "sc.settings.verbosity = 3\n",
    "# sc.logging.print_versions()"
   ]
  },
  {
   "cell_type": "code",
   "execution_count": 6,
   "metadata": {},
   "outputs": [],
   "source": [
    "from matplotlib import colors\n",
    "# color_map\n",
    "colors2 = plt.cm.Reds(np.linspace(0, 1, 128))\n",
    "colors3 = plt.cm.Greys_r(np.linspace(0.7,0.8,20))\n",
    "colorsComb = np.vstack([colors3, colors2])\n",
    "mymap = colors.LinearSegmentedColormap.from_list('my_colormap', colorsComb)"
   ]
  },
  {
   "cell_type": "code",
   "execution_count": null,
   "metadata": {},
   "outputs": [],
   "source": [
    "adata = sc.read(\"../data/merged_post_gene_filt_FINAL.h5ad\") # read merged data for v3"
   ]
  },
  {
   "cell_type": "markdown",
   "metadata": {},
   "source": [
    " - remove 7.5 epiblast cluster"
   ]
  },
  {
   "cell_type": "code",
   "execution_count": 6,
   "metadata": {},
   "outputs": [],
   "source": [
    "adata = adata[adata.obs['Cluster']!='E7.5: 13',:]"
   ]
  },
  {
   "cell_type": "code",
   "execution_count": null,
   "metadata": {},
   "outputs": [],
   "source": []
  },
  {
   "cell_type": "code",
   "execution_count": 7,
   "metadata": {},
   "outputs": [
    {
     "data": {
      "text/plain": [
       "(76894, 21906)"
      ]
     },
     "execution_count": 7,
     "metadata": {},
     "output_type": "execute_result"
    }
   ],
   "source": [
    "adata.shape"
   ]
  },
  {
   "cell_type": "code",
   "execution_count": 8,
   "metadata": {},
   "outputs": [],
   "source": [
    "curated_annotation = []\n",
    "\n",
    "for entry in adata.obs['CellType']:\n",
    "    curated_annotation.append(entry.split(':')[-1])\n",
    "\n",
    "\n",
    "cnt = 0\n",
    "for entry in adata.obs['louvain']:\n",
    "    if entry != 'nan':\n",
    "        curated_annotation[cnt] = entry\n",
    "    cnt = cnt + 1"
   ]
  },
  {
   "cell_type": "code",
   "execution_count": 9,
   "metadata": {},
   "outputs": [
    {
     "name": "stdout",
     "output_type": "stream",
     "text": [
      "443\n"
     ]
    }
   ],
   "source": [
    "cnt = 0\n",
    "for entry in curated_annotation:\n",
    "    if entry == 'nan':\n",
    "        cnt = cnt + 1\n",
    "print(cnt)"
   ]
  },
  {
   "cell_type": "code",
   "execution_count": 10,
   "metadata": {},
   "outputs": [],
   "source": [
    "# annotated as in original paper \n",
    "cnt = 0\n",
    "for entry in adata.obs['Cluster']:\n",
    "    if entry in ['E3.5:1','E3.5:3'] and curated_annotation[cnt] == 'nan':\n",
    "        curated_annotation[cnt] = 'ICM'\n",
    "    elif entry in ['E3.5:2','E4.5:2'] and curated_annotation[cnt] == 'nan':\n",
    "        curated_annotation[cnt] = 'EPI'\n",
    "    elif entry in ['E3.5:0','E3.5:4','E4.5:0','E4.5:1'] and curated_annotation[cnt] == 'nan':\n",
    "        print(\"shouldnt be here\")\n",
    "        curated_annotation[cnt] = 'PrE'\n",
    "    cnt = cnt + 1"
   ]
  },
  {
   "cell_type": "code",
   "execution_count": 11,
   "metadata": {},
   "outputs": [
    {
     "name": "stdout",
     "output_type": "stream",
     "text": [
      "0\n"
     ]
    }
   ],
   "source": [
    "cnt = 0\n",
    "for entry in curated_annotation:\n",
    "    if entry == 'nan':\n",
    "        cnt = cnt + 1\n",
    "print(cnt)"
   ]
  },
  {
   "cell_type": "code",
   "execution_count": 12,
   "metadata": {},
   "outputs": [
    {
     "name": "stderr",
     "output_type": "stream",
     "text": [
      "Trying to set attribute `.obs` of view, copying.\n"
     ]
    }
   ],
   "source": [
    "adata.obs['curated_annotation'] = curated_annotation"
   ]
  },
  {
   "cell_type": "code",
   "execution_count": null,
   "metadata": {},
   "outputs": [],
   "source": []
  },
  {
   "cell_type": "code",
   "execution_count": 14,
   "metadata": {},
   "outputs": [
    {
     "data": {
      "text/plain": [
       "Index(['0', '1', '2', '3', '4', '5', '6', '7', '8', '9', '10', '11', '12',\n",
       "       '13', '14', '15', '16', '17', '18', '19', '20', '21', '22', '23', '24',\n",
       "       '25', '26', '27', 'Colon', 'DE', 'EPI', 'Gut tube', 'ICM', 'Liver',\n",
       "       'Lung', 'Pancreas', 'Small int', 'Thymus', 'Thyroid'],\n",
       "      dtype='object')"
      ]
     },
     "execution_count": 14,
     "metadata": {},
     "output_type": "execute_result"
    }
   ],
   "source": [
    "adata.obs['curated_annotation'].cat.categories"
   ]
  },
  {
   "cell_type": "code",
   "execution_count": 15,
   "metadata": {},
   "outputs": [],
   "source": [
    "adata.rename_categories('curated_annotation', ['0', '1', '2', '3', '4_ctec', '5', '6_eso_&_oro_1', '7_eso_&_oro_2', '8_salivary', '9_thy_progen', '10', '11', '12_ubb',\n",
    "       '13', '14', '15', '16', '17', '18_eso_&_oro_3', '19_pouch1', '20_eso_&_oro_4', '21', '22_thyroid', '23', '24',\n",
    "       '25_mtec', '26_parathyroid', '27_respiratory','P:Colon', 'P:DE', 'P:EPI', 'P:Gut tube', 'P:ICM', 'P:Liver',\n",
    "       'P:Lung', 'P:Pancreas', 'P:Small int', 'P:Thymus', 'P:Thyroid' ])\n",
    "\n",
    "\n",
    "peer_clus = [entry for entry in adata.obs['curated_annotation'].cat.categories if entry[0:2] == 'P:']\n",
    "\n",
    "\n",
    "maehr_end = ['4_ctec', '6_eso_&_oro_1', '7_eso_&_oro_2', '8_salivary', '9_thy_progen','12_ubb',\n",
    "       '18_eso_&_oro_3', '19_pouch1', '20_eso_&_oro_4', '22_thyroid', \n",
    "       '25_mtec', '26_parathyroid', '27_respiratory']\n"
   ]
  },
  {
   "cell_type": "code",
   "execution_count": 43,
   "metadata": {},
   "outputs": [],
   "source": [
    "peer_clus = [entry for entry in adata.obs['curated_annotation'].cat.categories if entry[0:2] == 'P:']\n",
    "\n",
    "\n",
    "maehr_end = ['4_ctec', '6_eso_&_oro_1', '7_eso_&_oro_2', '8_salivary', '9_thy_progen','12_ubb',\n",
    "       '18_eso_&_oro_3', '19_pouch1', '20_eso_&_oro_4', '22_thyroid', \n",
    "       '25_mtec', '26_parathyroid', '27_respiratory']\n",
    "\n"
   ]
  },
  {
   "cell_type": "code",
   "execution_count": 16,
   "metadata": {},
   "outputs": [
    {
     "data": {
      "text/plain": [
       "nan              54044\n",
       "E8.75_gfp: 0      3443\n",
       "E7.5: 3           3423\n",
       "E5.5:0            2685\n",
       "E5.5:1            2089\n",
       "E5.5:2            1958\n",
       "E8.75_gfp: 7      1822\n",
       "E8.75_gfp: 10     1255\n",
       "E5.5:4            1148\n",
       "E8.75_ap:2        1134\n",
       "E8.75_gfp: 2       901\n",
       "E8.75_gfp: 8       621\n",
       "E6.5: 7            461\n",
       "E8.75_ap:6         363\n",
       "E8.75_gfp: 3       317\n",
       "E8.75_gfp: 4       194\n",
       "E8.75_ap:3         190\n",
       "E8.75_gfp: 9       190\n",
       "E3.5:1             181\n",
       "E3.5:2             176\n",
       "E8.75_ap:11        136\n",
       "E3.5:3              86\n",
       "E4.5:2              49\n",
       "E8.75_gfp: 6        28\n",
       "Name: Cluster, dtype: int64"
      ]
     },
     "execution_count": 16,
     "metadata": {},
     "output_type": "execute_result"
    }
   ],
   "source": [
    "adata.obs['Cluster'].value_counts()"
   ]
  },
  {
   "cell_type": "code",
   "execution_count": 17,
   "metadata": {},
   "outputs": [
    {
     "data": {
      "text/plain": [
       "P:EPI             8566\n",
       "0                 5387\n",
       "1                 3933\n",
       "P:Thymus          3443\n",
       "P:DE              3423\n",
       "2                 3262\n",
       "3                 3156\n",
       "4_ctec            2927\n",
       "5                 2873\n",
       "6_eso_&_oro_1     2801\n",
       "7_eso_&_oro_2     2661\n",
       "P:Lung            2443\n",
       "8_salivary        2403\n",
       "9_thy_progen      2093\n",
       "10                2060\n",
       "11                1917\n",
       "P:Gut tube        1823\n",
       "12_ubb            1817\n",
       "13                1768\n",
       "14                1735\n",
       "15                1582\n",
       "16                1557\n",
       "17                1383\n",
       "P:Thyroid         1255\n",
       "18_eso_&_oro_3    1227\n",
       "19_pouch1         1215\n",
       "20_eso_&_oro_4    1124\n",
       "21                1098\n",
       "22_thyroid         936\n",
       "23                 902\n",
       "P:Small int        901\n",
       "24                 859\n",
       "25_mtec            524\n",
       "P:Pancreas         511\n",
       "26_parathyroid     450\n",
       "27_respiratory     394\n",
       "P:ICM              267\n",
       "P:Liver            190\n",
       "P:Colon             28\n",
       "Name: curated_annotation, dtype: int64"
      ]
     },
     "execution_count": 17,
     "metadata": {},
     "output_type": "execute_result"
    }
   ],
   "source": [
    "adata.obs['curated_annotation'].value_counts()"
   ]
  },
  {
   "cell_type": "code",
   "execution_count": 18,
   "metadata": {},
   "outputs": [],
   "source": [
    "scran_cluster = []\n",
    "\n",
    "for entry in adata.obs['Cluster']:\n",
    "    scran_cluster.append(entry)\n",
    "\n",
    "\n",
    "cnt = 0\n",
    "for entry in adata.obs['louvain']:\n",
    "    if entry != 'nan':\n",
    "        scran_cluster[cnt] = entry\n",
    "    cnt = cnt + 1"
   ]
  },
  {
   "cell_type": "code",
   "execution_count": null,
   "metadata": {},
   "outputs": [],
   "source": [
    "cnt = 0\n",
    "for entry in scran_cluster:\n",
    "    if entry == 'nan':\n",
    "        cnt = cnt + 1\n",
    "print(cnt)"
   ]
  },
  {
   "cell_type": "code",
   "execution_count": 20,
   "metadata": {},
   "outputs": [],
   "source": [
    "adata.obs['scran_cluster'] = scran_cluster"
   ]
  },
  {
   "cell_type": "code",
   "execution_count": 21,
   "metadata": {},
   "outputs": [
    {
     "data": {
      "text/plain": [
       "0                5387\n",
       "1                3933\n",
       "E8.75_gfp: 0     3443\n",
       "E7.5: 3          3423\n",
       "2                3262\n",
       "3                3156\n",
       "4                2927\n",
       "5                2873\n",
       "6                2801\n",
       "E5.5:0           2685\n",
       "7                2661\n",
       "8                2403\n",
       "9                2093\n",
       "E5.5:1           2089\n",
       "10               2060\n",
       "E5.5:2           1958\n",
       "11               1917\n",
       "E8.75_gfp: 7     1822\n",
       "12               1817\n",
       "13               1768\n",
       "14               1735\n",
       "15               1582\n",
       "16               1557\n",
       "17               1383\n",
       "E8.75_gfp: 10    1255\n",
       "18               1227\n",
       "19               1215\n",
       "E5.5:4           1148\n",
       "E8.75_ap:2       1134\n",
       "20               1124\n",
       "21               1098\n",
       "22                936\n",
       "23                902\n",
       "E8.75_gfp: 2      901\n",
       "24                859\n",
       "E8.75_gfp: 8      621\n",
       "25                524\n",
       "E6.5: 7           461\n",
       "26                450\n",
       "27                394\n",
       "E8.75_ap:6        363\n",
       "E8.75_gfp: 3      317\n",
       "E8.75_gfp: 4      194\n",
       "E8.75_gfp: 9      190\n",
       "E8.75_ap:3        190\n",
       "E3.5:1            181\n",
       "E3.5:2            176\n",
       "E8.75_ap:11       136\n",
       "E3.5:3             86\n",
       "E4.5:2             49\n",
       "E8.75_gfp: 6       28\n",
       "Name: scran_cluster, dtype: int64"
      ]
     },
     "execution_count": 21,
     "metadata": {},
     "output_type": "execute_result"
    }
   ],
   "source": [
    "adata.obs['scran_cluster'].value_counts()"
   ]
  },
  {
   "cell_type": "markdown",
   "metadata": {},
   "source": [
    "- use scran_cluster for normalization "
   ]
  },
  {
   "cell_type": "code",
   "execution_count": 22,
   "metadata": {},
   "outputs": [],
   "source": [
    "input_groups = adata.obs['scran_cluster']\n",
    "data_mat = adata.X.T\n",
    "\n",
    "import rpy2.rinterface_lib.callbacks\n",
    "\n",
    "from rpy2.robjects import pandas2ri\n",
    "import anndata2ri\n",
    "\n"
   ]
  },
  {
   "cell_type": "code",
   "execution_count": 23,
   "metadata": {},
   "outputs": [],
   "source": [
    "rpy2.rinterface_lib.callbacks.logger.setLevel(logging.ERROR)\n",
    "\n",
    "# Automatically convert rpy2 outputs to pandas dataframes\n",
    "pandas2ri.activate()\n",
    "anndata2ri.activate()\n",
    "%load_ext rpy2.ipython\n",
    "\n"
   ]
  },
  {
   "cell_type": "code",
   "execution_count": 24,
   "metadata": {},
   "outputs": [],
   "source": [
    "%%R\n",
    "\n",
    "# Load all the R libraries we will be using in the notebook\n",
    "library(scran)\n",
    "\n"
   ]
  },
  {
   "cell_type": "code",
   "execution_count": 25,
   "metadata": {},
   "outputs": [],
   "source": [
    "%%R -i data_mat -i input_groups -o size_factors\n",
    "\n",
    "size_factors = computeSumFactors(data_mat, clusters=input_groups, min.mean=0.1)\n"
   ]
  },
  {
   "cell_type": "code",
   "execution_count": 26,
   "metadata": {},
   "outputs": [
    {
     "name": "stderr",
     "output_type": "stream",
     "text": [
      "... storing 'scran_cluster' as categorical\n"
     ]
    },
    {
     "data": {
      "image/png": "[encoded data removed]",
      "text/plain": [
       "<Figure size 327.28x320 with 1 Axes>"
      ]
     },
     "metadata": {
      "image/png": {
       "height": 300,
       "width": 319
      },
      "needs_background": "light"
     },
     "output_type": "display_data"
    },
    {
     "data": {
      "image/png": "[encoded data removed]",
      "text/plain": [
       "<Figure size 327.28x320 with 1 Axes>"
      ]
     },
     "metadata": {
      "image/png": {
       "height": 300,
       "width": 302
      },
      "needs_background": "light"
     },
     "output_type": "display_data"
    },
    {
     "data": {
      "image/png": "[encoded data removed]",
      "text/plain": [
       "<Figure size 320x320 with 1 Axes>"
      ]
     },
     "metadata": {
      "image/png": {
       "height": 283,
       "width": 316
      },
      "needs_background": "light"
     },
     "output_type": "display_data"
    }
   ],
   "source": [
    "adata.obs['size_factors'] = size_factors\n",
    "\n",
    "sc.pl.scatter(adata, 'size_factors', 'total_counts')\n",
    "sc.pl.scatter(adata, 'size_factors', 'n_genes_by_counts')\n",
    "\n",
    "sb.distplot(size_factors, bins=50, kde=False)\n",
    "plt.show()\n",
    "\n",
    "adata.layers[\"raw_counts\"] = adata.X.copy()\n",
    "\n",
    "adata.X /= adata.obs['size_factors'].values[:,None]\n",
    "sc.pp.log1p(adata)\n",
    "\n",
    "adata.layers['scran_norm'] = adata.X.copy()"
   ]
  },
  {
   "cell_type": "code",
   "execution_count": 27,
   "metadata": {},
   "outputs": [],
   "source": [
    "adata.raw = adata"
   ]
  },
  {
   "cell_type": "markdown",
   "metadata": {},
   "source": [
    "- remove rpl, mt genes "
   ]
  },
  {
   "cell_type": "code",
   "execution_count": 28,
   "metadata": {},
   "outputs": [],
   "source": [
    "rps = ['Rpl3', 'Rpl4', 'Rpl5', 'Rpl6', 'Rpl7', 'Rpl7a', 'Rpl8', 'Rpl9',\n",
    "       'Rpl10', 'Rpl10a', 'Rpl11', 'Rpl12', 'Rpl13', 'Rpl13a', 'Rpl14',\n",
    "       'Rpl15', 'Rpl17', 'Rpl18', 'Rpl18a', 'Rpl19', 'Rpl21', 'Rpl22',\n",
    "       'Rpl23', 'Rpl23a', 'Rpl24', 'Rpl26', 'Rpl27', 'Rpl27a', 'Rpl28',\n",
    "       'Rpl29', 'Rpl30', 'Rpl31', 'Rpl32', 'Rpl34', 'Rpl35', 'Rpl35a',\n",
    "       'Rpl36', 'Rpl44', 'Rpl37', 'Rpl37a', 'Rpl38', 'Rpl39', 'Rpl40',\n",
    "       'Rpl41', 'Rplp0', 'Rplp1', 'Rplp2', 'Rpsa', 'Rps2', 'Rps3',\n",
    "       'Rps3a', 'Rps4x', 'Rps5', 'Rps6', 'Rps7', 'Rps8', 'Rps9', 'Rps10',\n",
    "       'Rps11', 'Rps12', 'Rps13', 'Rps14', 'Rps15', 'Rps15a', 'Rps16',\n",
    "       'Rps17', 'Rps18', 'Rps19', 'Rps20', 'Rps21', 'Rps23', 'Rps24',\n",
    "       'Rps25', 'Rps26', 'Rps27', 'Rps27a', 'Rps28', 'Rps29', 'Rps30','Rps27rt','Rps12-ps3','Rpl10-ps3',\n",
    "'Rpl39l',\n",
    "'Rpl7a-ps5',\n",
    "'Rpl36-ps4',\n",
    "'Rpl9-ps6',\n",
    "'Rpl13a-ps1',\n",
    "      'Rpl9-ps1']\n",
    "\n",
    "mt_genes = list(adata[:,adata.var['mt']==True].var_names)"
   ]
  },
  {
   "cell_type": "code",
   "execution_count": 29,
   "metadata": {},
   "outputs": [],
   "source": [
    "adata = adata[:,~adata.var_names.isin(rps)]\n",
    "\n",
    "adata = adata[:,~adata.var_names.isin(mt_genes)]\n"
   ]
  },
  {
   "cell_type": "code",
   "execution_count": 30,
   "metadata": {},
   "outputs": [
    {
     "data": {
      "text/plain": [
       "(76894, 21809)"
      ]
     },
     "execution_count": 30,
     "metadata": {},
     "output_type": "execute_result"
    }
   ],
   "source": [
    "adata.shape"
   ]
  },
  {
   "cell_type": "code",
   "execution_count": 31,
   "metadata": {},
   "outputs": [
    {
     "name": "stdout",
     "output_type": "stream",
     "text": [
      "filtered out 1739 genes that are detected in less than 10 cells\n"
     ]
    },
    {
     "name": "stderr",
     "output_type": "stream",
     "text": [
      "Trying to set attribute `.var` of view, copying.\n"
     ]
    },
    {
     "name": "stdout",
     "output_type": "stream",
     "text": [
      "If you pass `n_top_genes`, all cutoffs are ignored.\n",
      "extracting highly variable genes\n",
      "    finished (0:00:28)\n",
      "--> added\n",
      "    'highly_variable', boolean vector (adata.var)\n",
      "    'means', float vector (adata.var)\n",
      "    'dispersions', float vector (adata.var)\n",
      "    'dispersions_norm', float vector (adata.var)\n"
     ]
    }
   ],
   "source": [
    "sc.pp.filter_genes(adata,min_cells=10)\n",
    "\n",
    "sc.pp.highly_variable_genes(adata, n_top_genes=5000)"
   ]
  },
  {
   "cell_type": "code",
   "execution_count": null,
   "metadata": {},
   "outputs": [],
   "source": []
  },
  {
   "cell_type": "code",
   "execution_count": 34,
   "metadata": {},
   "outputs": [],
   "source": [
    "adata.write(\"post_scran_norm_rpl_mt_removal_filter_less_10_genes_hvgs_chkpt1.h5ad\")"
   ]
  },
  {
   "cell_type": "code",
   "execution_count": 5,
   "metadata": {},
   "outputs": [],
   "source": [
    "adata = sc.read(\"post_scran_norm_rpl_mt_removal_filter_less_10_genes_hvgs_chkpt1.h5ad\")"
   ]
  },
  {
   "cell_type": "code",
   "execution_count": 6,
   "metadata": {},
   "outputs": [],
   "source": [
    "samp_all = []\n",
    "for entry in adata.obs_names:\n",
    "    if 'maehr' in entry:\n",
    "        samp_all.append(entry.split('|')[1]) # alternatively can use orig.ident\n",
    "    else:\n",
    "        samp_all.append(list(adata[entry,:].obs['sample'])[0])"
   ]
  },
  {
   "cell_type": "code",
   "execution_count": 7,
   "metadata": {},
   "outputs": [
    {
     "data": {
      "text/plain": [
       "76894"
      ]
     },
     "execution_count": 7,
     "metadata": {},
     "output_type": "execute_result"
    }
   ],
   "source": [
    "len(samp_all)"
   ]
  },
  {
   "cell_type": "code",
   "execution_count": 8,
   "metadata": {},
   "outputs": [],
   "source": [
    "adata.obs['samp_all'] = samp_all"
   ]
  },
  {
   "cell_type": "code",
   "execution_count": 9,
   "metadata": {},
   "outputs": [
    {
     "data": {
      "text/plain": [
       "CR_pharynx_E11_5_rep3-maehr                        7967\n",
       "CR_pharynx_E9_5_rep2-maehr                         7611\n",
       "CR_pharynx_E12_5_rep2-maehr                        6201\n",
       "CR_pharynx_E9_5_rep1-maehr                         5734\n",
       "E8_75_Definitive_endoderm__GFP-__GSM3494358        5692\n",
       "CR_pharynx_E11_5_rep2-maehr                        5385\n",
       "CR_pharynx_E12_5_rep1-maehr                        4885\n",
       "CR_pharynx_E10_5_rep5-maehr                        4743\n",
       "CR_pharynx_E10_5_rep7-maehr                        4248\n",
       "CR_pharynx_E10_5_rep6-maehr                        4129\n",
       "E5_5_Whole_embryo__GSM3494339                      3928\n",
       "CR_pharynx_E11_5_rep2B-maehr                       3141\n",
       "E8_75_Definitive_endoderm__GFP-__GSM3494357        3079\n",
       "E5_5_Whole_embryo__GSM3494340                      2754\n",
       "E7_5_Definitive_endoderm__GFP-__GSM3494350         1781\n",
       "E5_5_Whole_embryo__GSM3494338                      1198\n",
       "E7_5_Definitive_endoderm__GFP-__GSM3494349          833\n",
       "E7_5_Definitive_endoderm__GFP-__GSM3494348          809\n",
       "E8_75_Posterior_gut__GSM3494361                     700\n",
       "E8_75_Posterior_gut__GSM3494362                     663\n",
       "E3_5_Whole_embryo__GSM3494335                       293\n",
       "E8_75_Anterior_gut__GSM3494359                      243\n",
       "E6_5_Visceral_and_parietal_endoderm__GSM3494341     234\n",
       "E6_5_Visceral_and_parietal_endoderm__GSM3494342     227\n",
       "E8_75_Anterior_gut__GSM3494360                      217\n",
       "E3_5_Whole_embryo__GSM3494334                       150\n",
       "E4_5_Whole_embryo__GSM3494337                        27\n",
       "E4_5_Whole_embryo__GSM3494336                        22\n",
       "Name: samp_all, dtype: int64"
      ]
     },
     "execution_count": 9,
     "metadata": {},
     "output_type": "execute_result"
    }
   ],
   "source": [
    "adata.obs['samp_all'].value_counts()"
   ]
  },
  {
   "cell_type": "code",
   "execution_count": 12,
   "metadata": {
    "scrolled": true
   },
   "outputs": [
    {
     "name": "stderr",
     "output_type": "stream",
     "text": [
      "... storing 'samp_all' as categorical\n"
     ]
    },
    {
     "name": "stdout",
     "output_type": "stream",
     "text": [
      "Standardizing Data across genes.\n",
      "\n",
      "Found 28 batches\n",
      "\n",
      "Found 0 numerical variables:\n",
      "\t\n",
      "\n",
      "Fitting L/S model and finding priors\n",
      "\n",
      "Finding parametric adjustments\n",
      "\n"
     ]
    },
    {
     "name": "stderr",
     "output_type": "stream",
     "text": [
      "/Users/LoboM/miniconda3/envs/sc-tutorial-0720/lib/python3.8/site-packages/scanpy/preprocessing/_combat.py:340: RuntimeWarning: divide by zero encountered in true_divide\n",
      "  (abs(g_new - g_old) / g_old).max(), (abs(d_new - d_old) / d_old).max()\n"
     ]
    },
    {
     "name": "stdout",
     "output_type": "stream",
     "text": [
      "Adjusting data\n",
      "\n"
     ]
    }
   ],
   "source": [
    "sc.pp.combat(adata,key='samp_all')"
   ]
  },
  {
   "cell_type": "code",
   "execution_count": 13,
   "metadata": {},
   "outputs": [],
   "source": [
    "adata.write(\"post_scran_norm_combat_samp_all_rpl_mt_removal_filter_less_10_genes_hvgs_chkpt2.h5ad\")"
   ]
  },
  {
   "cell_type": "code",
   "execution_count": 5,
   "metadata": {},
   "outputs": [],
   "source": [
    "adata = sc.read(\"post_scran_norm_combat_samp_all_rpl_mt_removal_filter_less_10_genes_hvgs_chkpt2.h5ad\")"
   ]
  },
  {
   "cell_type": "code",
   "execution_count": 6,
   "metadata": {},
   "outputs": [
    {
     "name": "stdout",
     "output_type": "stream",
     "text": [
      "If you pass `n_top_genes`, all cutoffs are ignored.\n",
      "extracting highly variable genes\n",
      "    finished (0:01:09)\n",
      "--> added\n",
      "    'highly_variable', boolean vector (adata.var)\n",
      "    'means', float vector (adata.var)\n",
      "    'dispersions', float vector (adata.var)\n",
      "    'dispersions_norm', float vector (adata.var)\n"
     ]
    }
   ],
   "source": [
    "sc.pp.highly_variable_genes(adata, n_top_genes=5000)"
   ]
  },
  {
   "cell_type": "code",
   "execution_count": 7,
   "metadata": {},
   "outputs": [
    {
     "name": "stdout",
     "output_type": "stream",
     "text": [
      "calculating cell cycle phase\n",
      "computing score 'S_score'\n",
      "    finished: added\n",
      "    'S_score', score of gene set (adata.obs).\n",
      "    1522 total control genes are used. (0:02:02)\n",
      "computing score 'G2M_score'\n",
      "    finished: added\n",
      "    'G2M_score', score of gene set (adata.obs).\n",
      "    1615 total control genes are used. (0:01:42)\n",
      "-->     'phase', cell cycle phase (adata.obs)\n"
     ]
    }
   ],
   "source": [
    "cc_file = \"../cell_cycle_genes_from_Mac_scanpy.txt\"\n",
    "cell_cycle = ['S','G2.M']\n",
    "cc_genes = pd.read_table(cc_file, delimiter='\\t')\n",
    "s_genes = cc_genes['S'].dropna()\n",
    "g2m_genes = cc_genes['G2.M'].dropna()\n",
    "\n",
    "s_genes_mm = [gene.lower().capitalize() for gene in s_genes]\n",
    "g2m_genes_mm = [gene.lower().capitalize() for gene in g2m_genes]\n",
    "\n",
    "s_genes_mm_ens = adata.var_names[np.in1d(adata.var_names, s_genes_mm)]\n",
    "g2m_genes_mm_ens = adata.var_names[np.in1d(adata.var_names, g2m_genes_mm)]\n",
    "\n",
    "sc.tl.score_genes_cell_cycle(adata, s_genes=s_genes_mm_ens, g2m_genes=g2m_genes_mm_ens)"
   ]
  },
  {
   "cell_type": "code",
   "execution_count": 10,
   "metadata": {},
   "outputs": [],
   "source": [
    "adata = adata[:, adata.var.highly_variable]"
   ]
  },
  {
   "cell_type": "code",
   "execution_count": 11,
   "metadata": {},
   "outputs": [
    {
     "name": "stdout",
     "output_type": "stream",
     "text": [
      "regressing out ['total_counts', 'pct_counts_mt', 'S_score', 'G2M_score']\n"
     ]
    },
    {
     "name": "stderr",
     "output_type": "stream",
     "text": [
      "/Users/LoboM/miniconda3/envs/sc-tutorial-0720/lib/python3.8/site-packages/anndata/_core/anndata.py:1209: ImplicitModificationWarning: Initializing view as actual.\n",
      "  warnings.warn(\n",
      "Trying to set attribute `.obs` of view, copying.\n",
      "... storing 'phase' as categorical\n"
     ]
    },
    {
     "name": "stdout",
     "output_type": "stream",
     "text": [
      "    finished (0:08:24)\n"
     ]
    }
   ],
   "source": [
    "# adata2 = adata.copy()\n",
    "sc.pp.regress_out(adata, ['total_counts', 'pct_counts_mt','S_score','G2M_score'])"
   ]
  },
  {
   "cell_type": "code",
   "execution_count": 12,
   "metadata": {},
   "outputs": [
    {
     "name": "stdout",
     "output_type": "stream",
     "text": [
      "computing PCA\n",
      "    on highly variable genes\n",
      "    with n_comps=1500\n",
      "    finished (0:07:28)\n"
     ]
    }
   ],
   "source": [
    "sc.pp.pca(adata, n_comps=1500, svd_solver='arpack')"
   ]
  },
  {
   "cell_type": "code",
   "execution_count": 19,
   "metadata": {},
   "outputs": [],
   "source": [
    "adata.write(\"final_peer_maehr.h5ad\")"
   ]
  },
  {
   "cell_type": "code",
   "execution_count": null,
   "metadata": {},
   "outputs": [],
   "source": []
  }
 ],
 "metadata": {
  "kernelspec": {
   "display_name": "Python 3",
   "language": "python",
   "name": "python3"
  },
  "language_info": {
   "codemirror_mode": {
    "name": "ipython",
    "version": 3
   },
   "file_extension": ".py",
   "mimetype": "text/x-python",
   "name": "python",
   "nbconvert_exporter": "python",
   "pygments_lexer": "ipython3",
   "version": "3.8.4"
  }
 },
 "nbformat": 4,
 "nbformat_minor": 4
}
