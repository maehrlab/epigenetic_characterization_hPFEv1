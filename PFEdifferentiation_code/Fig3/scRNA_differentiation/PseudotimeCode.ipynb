{
 "cells": [
  {
   "cell_type": "markdown",
   "metadata": {},
   "source": [
    "# Embedding"
   ]
  },
  {
   "cell_type": "code",
   "execution_count": null,
   "metadata": {},
   "outputs": [],
   "source": [
    "import scanpy as sc\n",
    "from scipy.stats import pearsonr\n",
    "from copy import deepcopy\n",
    "import numpy as np\n",
    "sc.set_figure_params(facecolor=\"white\", figsize=(8, 8))\n",
    "sc.set_figure_params(scanpy=True, dpi_save=400,dpi=150)\n",
    "import matplotlib.pyplot as plt\n",
    "import matplotlib as mpl\n",
    "plt.rcParams[\"figure.figsize\"] = [8, 8]\n",
    "plt.rcParams[\"figure.autolayout\"] = True\n",
    "plt.rcParams[\"font.family\"] = \"Arial\"\n",
    "plt.rcParams['pdf.fonttype'] = 42\n",
    "SUPER_MAGMA = mpl.colors.LinearSegmentedColormap.from_list('super_magma', colors=['#e0e0e0', '#dedede', '#fff68f', '#ffec8b', '#ffc125', '#ee7600', '#ee5c42', '#cd3278', '#c71585', '#68228b'], N=500)\n",
    "mpl.rc('image', cmap = SUPER_MAGMA)\n",
    "\n",
    "adata = sc.read_h5ad('END_OF_ANALYSIS.h5ad')\n",
    "\n",
    "\n",
    "adata = adata[adata.obs['Type'].isin(['AFE','PFE'])]\n",
    "sc.pp.highly_variable_genes(adata, n_top_genes=1000)\n",
    "adata.var['highly_variable'] *= np.any(adata.var[['mt', 'ribo']],axis=1) == False\n",
    "cell_cycle_genes = [x.strip() for x in open('./regev_lab_cell_cycle_genes.txt')]\n",
    "adata.var['highly_variable'] *= np.in1d(adata.var.index,cell_cycle_genes) == False\n",
    "adata.layers['pre_combat'] = deepcopy(adata.X)\n",
    "sc.pp.combat(adata,'phase',['Experiment'])\n",
    "sc.pp.pca(adata, use_highly_variable=True,n_comps=150)\n",
    "sc.external.pp.harmony_integrate(adata,'Experiment')\n"
   ]
  },
  {
   "cell_type": "code",
   "execution_count": null,
   "metadata": {},
   "outputs": [],
   "source": [
    "sc.pp.neighbors(adata,use_rep='X_pca_harmony',method='gauss',n_neighbors=10)\n",
    "sc.tl.diffmap(adata,n_comps=15)\n",
    "rp = []\n",
    "for i in range(adata.obsm['X_diffmap'].shape[1]):\n",
    "    adata.obs[f'diffmap{i}'] = adata.obsm['X_diffmap'][:,i]\n",
    "    rp += [pearsonr(adata.obs['log1p_total_counts'],adata.obs[f'diffmap{i}'])]\n",
    "r,p = list(zip(*rp))\n",
    "not_count_effects = (np.array(p)<0.01)*(np.abs(np.array(r)) > 0.5) == False\n",
    "print(f'Count Effect Dimentions: {not_count_effects==False}')\n",
    "adata.obsm['X_diffmapWithCountEffects'] = adata.obsm['X_diffmap']\n",
    "adata.obsm['X_diffmap'] = adata.obsm['X_diffmapWithCountEffects'][:,not_count_effects]\n",
    "adata.uns['diffmap_evalsWithCountEffects'] = adata.uns['diffmap_evals']\n",
    "adata.uns['diffmap_evals'] = adata.uns['diffmap_evalsWithCountEffects'][not_count_effects]\n",
    "print(f\"Remaining diffmap components: {adata.obsm['X_diffmap'].shape[1]}\")\n",
    "sc.pl.diffmap(adata, color=['Type','Experiment','log1p_total_counts','doublet_score','pct_counts_mt','pct_counts_ribo','phase'],save='Covariates',show=False)\n",
    "sc.pp.neighbors(adata, use_rep='X_diffmap',method='gauss',n_neighbors=10,)\n",
    "\n",
    "leids = [0.5,1,]\n",
    "for i in leids:\n",
    "    leid = f'leiden_res{i}'\n",
    "    sc.tl.leiden(adata,resolution=i,key_added=leid)\n",
    "    name = adata.obs[[leid,'Type']].value_counts().unstack(level=1).idxmax(axis=1)\n",
    "    adata.obs[leid] = adata.obs[leid].apply(lambda x: name.loc[x]+'-'+x).astype(str)\n",
    "    namemapper = {}\n",
    "    donesofar = {}\n",
    "    cats = adata.obs[leid].value_counts().index\n",
    "    if len(cats) > 1:\n",
    "        for i in cats:\n",
    "            if not i[:i.find('-')] in donesofar:\n",
    "                donesofar[i[:i.find('-')]] = 0\n",
    "            donesofar[i[:i.find('-')]] += 1\n",
    "            namemapper[i] = 's'+i[:i.find('-')]+'-'+str(donesofar[i[:i.find('-')]])\n",
    "        adata.obs[leid] = adata.obs[leid].apply(lambda x: namemapper[x]).astype(str).astype('category')\n",
    "        adata.obs[leid] = adata.obs[leid].cat.reorder_categories([f's{t}-{n}' for t in adata.obs['Type'].cat.categories for n in range(len(adata.obs[leid].cat.categories)) if f's{t}-{n}' in adata.obs[leid].cat.categories], ordered=True)\n",
    "    else:\n",
    "        adata.obs[leid] = adata.obs[leid].apply(lambda x: 's'+x[:x.find('-')+1]+'1').astype(str)\n",
    "        adata.obs[leid] = adata.obs[leid].astype('category')\n",
    "    type2color = {\n",
    "        'ESC':np.array((1,0,0)),\n",
    "        'DE':np.array((1,1,0)),\n",
    "        'AFE':np.array((0,0,1)),\n",
    "        'PFE':np.array((1,0,1)),\n",
    "    }\n",
    "    cmin = 0.3\n",
    "    adata.uns[f'{leid}_colors'] = [mpl.colors.to_hex(type2color[i[1:i.find('-')]]*(int(i[i.find('-')+1:])/adata.obs[leid].cat.categories.str.startswith(i[:i.find('-')]).sum()*(1-cmin)+cmin)) for i in adata.obs[leid].cat.categories]\n",
    "leids = [f'leiden_res{leid}' for leid in leids]\n",
    "\n",
    "\n",
    "\n",
    "\n",
    "\n",
    "adata.uns['iroot'] = adata.obsm['X_diffmap'][:,1].argmax()\n",
    "adata.obs['root'] = 0\n",
    "adata.obs['root'].iloc[adata.uns['iroot']] = 1\n",
    "sc.external.tl.wishbone(adata, start_cell=adata.obs_names[adata.obs['root']==1][0], components=[0,1], branch=False) # https://www.sciencedirect.com/science/article/pii/S0092867414004711\n",
    "\n",
    "adata.obs['neighbors'] = np.array(adata.obsp['connectivities'].sum(axis=0))[0]\n",
    "adata.obs['trajectory_wishbone'] = adata.obs['trajectory_wishbone'].astype(np.float32)\n",
    "\n",
    "for i in adata.obs.columns:\n",
    "    if adata.obs[i].dtype == np.dtype('float32') or adata.obs[i].dtype == np.dtype('int'):\n",
    "        continue\n",
    "    adata.obs[i] = adata.obs[i].astype(str)\n",
    "adata.write_h5ad('AFE.PFE.diffmap.h5ad')"
   ]
  },
  {
   "cell_type": "markdown",
   "metadata": {},
   "source": [
    "# Plotting"
   ]
  },
  {
   "cell_type": "code",
   "execution_count": 1,
   "metadata": {},
   "outputs": [],
   "source": [
    "import scanpy as sc\n",
    "import pandas as pd\n",
    "import seaborn as sns\n",
    "from scipy.stats import pearsonr\n",
    "import numpy as np\n",
    "import random\n",
    "import os\n",
    "from scipy.stats import norm\n",
    "sc.set_figure_params(facecolor=\"white\", figsize=(8, 8))\n",
    "sc.set_figure_params(scanpy=True, dpi_save=400,dpi=150)\n",
    "import matplotlib.pyplot as plt\n",
    "import matplotlib as mpl\n",
    "plt.rcParams[\"figure.figsize\"] = [8, 8]\n",
    "plt.rcParams[\"figure.autolayout\"] = True\n",
    "plt.rcParams[\"font.family\"] = \"Arial\"\n",
    "plt.rcParams['pdf.fonttype'] = 42\n",
    "SUPER_MAGMA = mpl.colors.LinearSegmentedColormap.from_list('super_magma', colors=['#e0e0e0', '#dedede', '#fff68f', '#ffec8b', '#ffc125', '#ee7600', '#ee5c42', '#cd3278', '#c71585', '#68228b'], N=500)\n",
    "mpl.rc('image', cmap = SUPER_MAGMA)\n",
    "\n",
    "adata = sc.read_h5ad('AFE.PFE.diffmap.h5ad')\n",
    "os.makedirs('figures',exist_ok=True)"
   ]
  },
  {
   "cell_type": "code",
   "execution_count": 2,
   "metadata": {},
   "outputs": [
    {
     "data": {
      "text/plain": [
       "<Figure size 750x1500 with 0 Axes>"
      ]
     },
     "metadata": {},
     "output_type": "display_data"
    },
    {
     "data": {
      "text/plain": [
       "<Figure size 1200x1200 with 0 Axes>"
      ]
     },
     "metadata": {},
     "output_type": "display_data"
    },
    {
     "data": {
      "text/plain": [
       "<Figure size 750x75 with 0 Axes>"
      ]
     },
     "metadata": {},
     "output_type": "display_data"
    },
    {
     "data": {
      "text/plain": [
       "<Figure size 1200x1200 with 0 Axes>"
      ]
     },
     "metadata": {},
     "output_type": "display_data"
    }
   ],
   "source": [
    "gene_names = sorted(list(set(['VGLL2','EYA1','IRX1','IRX2','IRX3','ISL1','NKX2-3','OTX2','PRRX2','RIPPLY3', 'SIX1','SOX2','FOXA2','TBX1','PAX1','PAX9', 'SOX2','FOXA2','TBX1','PAX1','PAX9','NKX2-5','FOXE1','PBX1','NKX2-6','VGLL2','EYA1','IRX1','IRX2','IRX3','ISL1','NKX2-3','OTX2','PRRX2','RIPPLY3','SIX1'] )))\n",
    "\n",
    "newindex = adata.obs['trajectory_wishbone'].sort_values().index\n",
    "kernal = np.ones([100])\n",
    "kernal /= kernal.sum()\n",
    "mode = 'valid'\n",
    "\n",
    "\n",
    "\n",
    "\n",
    "def plotboth(df,nm,figheight=0.5,cmap=SUPER_MAGMA):\n",
    "    fig, ax = plt.subplots()\n",
    "    sns.heatmap(df,xticklabels=False,vmin=0,vmax=1,cmap=cmap,ax=ax, cbar=False, yticklabels=False)\n",
    "    fig.set_figwidth(5)\n",
    "    fig.set_figheight(figheight)\n",
    "    fig.savefig(f'figures/PseudotimeHeatmap.{nm}.COLORBOX.pdf')\n",
    "    plt.clf()\n",
    "    fig, ax = plt.subplots()\n",
    "    sns.heatmap(df,xticklabels=False,vmin=0,vmax=1,cmap=cmap,ax=ax)\n",
    "    fig.savefig(f'figures/PseudotimeHeatmap.{nm}.pdf')\n",
    "    plt.clf()\n",
    "\n",
    "genedf = {}\n",
    "for i in gene_names:\n",
    "    signal = np.array(adata[newindex,i].layers['pre_combat'].toarray())[:,0]\n",
    "    genedf[i] = np.convolve(signal,kernal,mode=mode)\n",
    "genedf = pd.DataFrame(genedf)\n",
    "natural_order = genedf.idxmax().sort_values().index\n",
    "for i in gene_names:\n",
    "    genedf[i] = genedf[i] - genedf[i].min()\n",
    "    genedf[i] = genedf[i]/genedf[i].max()\n",
    "genedf = genedf[natural_order].T\n",
    "plotboth(genedf,'Genes',figheight=10, cmap='viridis')\n",
    "\n",
    "\n",
    "\n",
    "pseudotime = {}\n",
    "for c in ['trajectory_wishbone']:\n",
    "    signal = adata.obs.loc[newindex,c]\n",
    "    pseudotime[c] = np.convolve(signal,kernal,mode=mode)\n",
    "pseudotime = pd.DataFrame(pseudotime).T\n",
    "plotboth(pseudotime,'trajectory_wishbone',cmap='cividis')\n",
    "\n",
    "\n",
    "# leidendf = {}\n",
    "# for c in adata.obs['leiden'].cat.categories:\n",
    "#     signal = (adata.obs.loc[newindex,'leiden'] == c).astype(float)\n",
    "#     leidendf[c] = np.convolve(signal,kernal,mode=mode)\n",
    "# leidendf = pd.DataFrame(leidendf)\n",
    "# natural_order = leidendf.idxmax().sort_values().index\n",
    "# leidendf = leidendf[natural_order].T\n",
    "# plotboth(leidendf,'LeidenProbs',figheight=5)\n",
    "\n",
    "# majority_vote = {}\n",
    "# boxcolor = dict(zip(adata.obs['leiden'].cat.categories,adata.uns['leiden_colors']))\n",
    "# for c in adata.obs['leiden'].cat.categories:\n",
    "#     signal = (adata.obs.loc[newindex,'leiden'] == c).astype(float)\n",
    "#     majority_vote[c] = np.convolve(signal,kernal,mode=mode)\n",
    "# majority_vote = pd.DataFrame(majority_vote).idxmax(axis=1).apply(boxcolor.get)\n",
    "\n",
    "# cmap_dict = dict(enumerate(boxcolor.values()))\n",
    "# get_num = dict(zip(cmap_dict.values(),cmap_dict.keys()))\n",
    "# majority_vote = majority_vote.apply(get_num.get)\n",
    "# cmap = mpl.colors.ListedColormap([cmap_dict[i] for i in range(6)])\n",
    "\n",
    "# fig, ax = plt.subplots()\n",
    "# sns.heatmap(pd.DataFrame({'leiden':majority_vote}).T, cmap=cmap, vmin=-0.5, vmax=len(cmap_dict)-0.5, yticklabels=False, xticklabels=False, cbar=False, ax=ax)\n",
    "# fig.set_figwidth(5)\n",
    "# fig.set_figheight(0.5)\n",
    "# fig.savefig(f'figures/PseudotimeHeatmap.leidenVote.COLORBOX.pdf')\n",
    "# plt.clf()\n",
    "\n",
    "# fig, ax = plt.subplots()\n",
    "# sns.heatmap(pd.DataFrame({'leiden':majority_vote}).T, cmap=cmap, vmin=-0.5, vmax=len(cmap_dict)-0.5, xticklabels=False, ax=ax)\n",
    "# fig.savefig(f'figures/PseudotimeHeatmap.leidenVote.pdf')\n",
    "# plt.clf()\n",
    "\n"
   ]
  },
  {
   "cell_type": "code",
   "execution_count": 3,
   "metadata": {},
   "outputs": [
    {
     "data": {
      "text/plain": [
       "<Figure size 750x1200 with 0 Axes>"
      ]
     },
     "metadata": {},
     "output_type": "display_data"
    }
   ],
   "source": [
    "linecolor = dict(zip(adata.obs['leiden'].cat.categories,adata.uns['leiden_colors']))\n",
    "\n",
    "leidendf = {}\n",
    "for c in adata.obs['leiden'].cat.categories:\n",
    "    signal = (adata.obs.loc[newindex,'leiden'] == c).astype(float)\n",
    "    leidendf[c] = np.convolve(signal,kernal,mode=mode)\n",
    "leidendf = pd.DataFrame(leidendf)\n",
    "natural_order = leidendf.idxmax().sort_values().index[::-1]\n",
    "leidendf = leidendf[natural_order].T\n",
    "\n",
    "\n",
    "random.seed(0)\n",
    "smpkey = {j:i for i,j in enumerate(newindex)}\n",
    "dfs = []\n",
    "for _ in range(1000):\n",
    "    smp = random.choices(list(newindex),k=len(newindex))\n",
    "    smp.sort(key=smpkey.get)\n",
    "    leidendfSAMP = {}\n",
    "    for c in natural_order:\n",
    "        signal = (adata.obs.loc[smp,'leiden'] == c).astype(float)\n",
    "        leidendfSAMP[c] = np.convolve(signal,kernal,mode=mode)\n",
    "    leidendfSAMP = pd.DataFrame(leidendfSAMP).T\n",
    "    dfs.append(leidendfSAMP.values)\n",
    "leidendfUP = leidendf*0\n",
    "leidendfDOWN = leidendf*0\n",
    "dfs = np.array(dfs)\n",
    "leidendfUP += np.percentile(dfs,99,axis=0)\n",
    "leidendfDOWN += np.percentile(dfs,1,axis=0)\n",
    "\n",
    "fig, ax = plt.subplots()\n",
    "for n,i in enumerate(leidendf.index):\n",
    "    print(i,linecolor[i])\n",
    "    ax.plot(pseudotime.iloc[0],n+leidendf.loc[i],color=linecolor[i])\n",
    "    minl = n+leidendfUP.loc[i]\n",
    "    maxl = n+leidendfDOWN.loc[i]\n",
    "    minl[minl<n] = n\n",
    "    maxl[maxl>n+1] = n+1\n",
    "    ax.fill_between(pseudotime.iloc[0], minl, maxl, alpha=0.5,color=linecolor[i])\n",
    "    if n != 0:\n",
    "        ax.plot([0,1],[n,n],'k')\n",
    "ax.set_ylim(ymin=0,ymax=n+1)\n",
    "ax.set_xlim(xmin=pseudotime.iloc[0].min(),xmax=pseudotime.iloc[0].max())\n",
    "ax.set_xticks([])\n",
    "ax.set_yticks([])\n",
    "fig.set_figwidth(5)\n",
    "fig.savefig('figures/PseudotimeHeatmap.LeidenProbs.pdf')\n",
    "plt.clf()"
   ]
  },
  {
   "cell_type": "code",
   "execution_count": null,
   "metadata": {},
   "outputs": [],
   "source": [
    "# leids = list(adata.obs.columns[adata.obs.columns.str.startswith('leiden_res')])\n",
    "# sc.pl.diffmap(adata, color=['root','trajectory_wishbone','neighbors','Experiment','Type','leiden']+leids,save='NewLeidens',show=False)\n",
    "# sc.pl.diffmap(adata, color='Type',save='Type',show=False)\n",
    "# sc.pl.diffmap(adata, color='leiden',save='leiden',show=False)\n"
   ]
  },
  {
   "cell_type": "code",
   "execution_count": 7,
   "metadata": {},
   "outputs": [],
   "source": [
    "gene_names = sorted(list(set(['VGLL2','EYA1','IRX1','IRX2','IRX3','ISL1','NKX2-3','OTX2','PRRX2','RIPPLY3', 'SIX1','SOX2','FOXA2','TBX1','PAX1','PAX9', 'SOX2','FOXA2','TBX1','PAX1','PAX9','NKX2-5','FOXE1','PBX1','NKX2-6','VGLL2','EYA1','IRX1','IRX2','IRX3','ISL1','NKX2-3','OTX2','PRRX2','RIPPLY3','SIX1', 'CER1'] )))\n",
    "\n",
    "adata_magic = sc.external.pp.magic(adata,gene_names,t=3,random_state=0,copy=True)\n",
    "adata_magic.obsm['X_umap'] = adata.obsm['X_umap']\n",
    "del adata_magic.raw\n",
    "adata_magic.obsm['X_diffmap'] = adata.obsm['X_diffmap']\n",
    "adata_magic.obs = adata.obs\n",
    "sc.pl.diffmap(adata_magic, color=gene_names,save='MAGIC.png',show=False, add_outline=True,frameon=False)\n",
    "sc.pl.diffmap(adata_magic, color='CER1, EYA1, VGLL2, OTX2, PAX1, PAX9, Type, trajectory_wishbone'.split(', '),save='MAGIC.reubttle.png',show=False, add_outline=True,frameon=False)\n",
    "\n",
    "pfe = 'HOXA3','SOX2','FOXA2','PAX1','PAX9','HOXB3','NKX2-5','DMRT2','FOXE1','PBX1','NKX2-6'\n",
    "sc.tl.score_genes(adata,gene_list=pfe,score_name='pfe_score')\n",
    "\n",
    "adata_magic = sc.external.pp.magic(sc.AnnData(adata.obs[['pfe_score']]),t=3,random_state=0,copy=True)\n",
    "adata_magic.obsm['X_umap'] = adata.obsm['X_umap']\n",
    "del adata_magic.raw\n",
    "adata_magic.obsm['X_diffmap'] = adata.obsm['X_diffmap']\n",
    "sc.pl.diffmap(adata_magic, color=['pfe_score'],save='pfe_score',show=False,cmap='bwr')\n",
    "\n"
   ]
  }
 ],
 "metadata": {
  "kernelspec": {
   "display_name": "Python 3 (ipykernel)",
   "language": "python",
   "name": "python3"
  },
  "language_info": {
   "codemirror_mode": {
    "name": "ipython",
    "version": 3
   },
   "file_extension": ".py",
   "mimetype": "text/x-python",
   "name": "python",
   "nbconvert_exporter": "python",
   "pygments_lexer": "ipython3",
   "version": "3.9.16"
  }
 },
 "nbformat": 4,
 "nbformat_minor": 2
}
