{
 "cells": [
  {
   "cell_type": "code",
   "execution_count": null,
   "metadata": {},
   "outputs": [],
   "source": [
    "import pandas as pd"
   ]
  },
  {
   "cell_type": "code",
   "execution_count": null,
   "metadata": {},
   "outputs": [],
   "source": [
    "from gimmemotifs.motif import default_motifs\n",
    "motifs_db = default_motifs()\n",
    "from gimmemotifs.config import DIRECT_NAME, INDIRECT_NAME\n",
    "from scipy import stats"
   ]
  },
  {
   "cell_type": "markdown",
   "metadata": {},
   "source": [
    "####  Figure 4 - motif correlation file"
   ]
  },
  {
   "cell_type": "markdown",
   "metadata": {},
   "source": [
    "# read raw count RNA"
   ]
  },
  {
   "cell_type": "code",
   "execution_count": null,
   "metadata": {},
   "outputs": [],
   "source": []
  },
  {
   "cell_type": "code",
   "execution_count": null,
   "metadata": {},
   "outputs": [],
   "source": [
    "motif_basedir = \"/Users/LoboM/Dropbox/sharedUMass_Macrina_Rene/hESC_2021/bulk/ATAC/per_sample_integration_grn_etc/nov17_2022/input/with_filter_option_but_replicates_averaged/consensus_40k_maelstrom_op_ATAC/\"\n",
    "all_motifs = pd.read_csv(motif_basedir + \"final.out.txt\",sep='\\t',index_col=0)\n",
    "\n",
    "#print(all_motifs.shape)\n",
    "# exclude motifs not in footprint set \n",
    "#all_motifs = all_motifs.loc[list(set(all_motifs.index).intersection(set(heatmap_signal2.index))),] # {'GM.5.0.Unknown.0124'} is excluded\n",
    "#print(all_motifs.shape)\n",
    "\n",
    "imp_cols = ['z-score hESC',  'z-score hDE','z-score hAFE','z-score hPFE']\n",
    "\n",
    "# all_motifs.columns = imp_cols\n",
    "motifs6 = all_motifs[imp_cols]\n",
    "\n",
    "TF_evidence_level = 'direct_and_indirect'\n",
    "if TF_evidence_level == \"direct_and_indirect\":\n",
    "        factor_kind = [DIRECT_NAME, INDIRECT_NAME]\n",
    "elif TF_evidence_level == \"direct\":\n",
    "        factor_kind = [DIRECT_NAME]\n",
    "\n",
    "dic_motif2TFs = {}\n",
    "\n",
    "for i in motifs_db:\n",
    "        fcs = []\n",
    "        for j in factor_kind:\n",
    "            # print(i)\n",
    "            fcs += i.factors[j]\n",
    "        dic_motif2TFs[i.id] = fcs\n",
    "\n",
    "\n",
    "dic_motif2TFs_clean = {}\n",
    "\n",
    "\n",
    "for entry in dic_motif2TFs:\n",
    "    tmp = []\n",
    "    for entry2 in dic_motif2TFs[entry]:\n",
    "        tmp.append(entry2.upper())\n",
    "    dic_motif2TFs_clean[entry] = list(set(tmp))\n",
    "    \n",
    "to_del = []\n",
    "for entry in dic_motif2TFs_clean.keys():\n",
    "    if entry not in list(motifs6.index):\n",
    "        to_del.append(entry)\n",
    "        \n",
    "for entry in to_del:\n",
    "    del dic_motif2TFs_clean[entry]\n",
    "    \n",
    "list_of_tuples = []\n",
    "for entry in dic_motif2TFs_clean:\n",
    "    for entry2 in dic_motif2TFs_clean[entry]:\n",
    "        list_of_tuples.append((entry,entry2))\n",
    "        \n",
    "df = pd.DataFrame(list_of_tuples, columns =['MotifName', 'TFName'])\n",
    "\n",
    "\n",
    "#top_markers = []\n",
    "#with open('all_top_markers_pval_0.01_logfc_1.txt','r') as f:\n",
    "#    for line in f:\n",
    "#        top_markers.append(line.strip())\n",
    "        \n",
    "rna_expr = pd.read_csv(\"rna_avg_tpm.csv\",index_col=0)\n",
    "\n",
    "\n",
    "#rna_expr = rna_expr_subset.copy()\n",
    "\n",
    "#rna_expr['hES'] = 0.5*(rna_expr['hES_rep1'] + rna_expr['hES_rep2'])\n",
    "#rna_expr['hDE'] = 0.5*(rna_expr['hDE_rep1'] + rna_expr['hDE_rep2'])\n",
    "#rna_expr['hAFE'] = 0.5*(rna_expr['hAFE_rep1'] + rna_expr['hAFE_rep2'])\n",
    "#rna_expr['hPFE'] = 0.5*(rna_expr['hPFE_rep1'] + rna_expr['hPFE_rep2'])\n",
    "\n",
    "#for entry in ['hAFE_rep1', 'hES_rep2', 'hPFE_rep1', 'hDE_rep2', 'hPFE_rep2',\n",
    "#       'hDE_rep1', 'hAFE_rep2', 'hES_rep1']:\n",
    "#    del rna_expr[entry]\n",
    "\n",
    "\n",
    "\n",
    "\n",
    "#rna_expr = rna_expr.loc[top_markers,:] # pval = 0.01, logfc=1 -> too stringent  loses Nkx2-5 etc\n",
    "exclude_non_de = set(df['TFName']) - set(rna_expr.index)\n",
    "\n",
    "\n",
    "df = df[~df['TFName'].isin(exclude_non_de)]\n",
    "import re\n",
    "df['Family'] = [re.sub(\"[0-9]+$\",\"\",re.sub(\"-|\\.\",\"\",entry)) for entry in list(df['TFName'].values)]\n",
    "rna_expr['Family'] = [re.sub(\"[0-9]+$\",\"\",re.sub(\"-|\\.\",\"\",entry)) for entry in rna_expr.index]\n",
    "\n",
    "\n",
    "df_fam = df.copy()\n",
    "rna_expr_fam = pd.DataFrame(rna_expr['Family'])\n",
    "rna_expr_fam['TF'] = rna_expr_fam.index\n",
    "df_fam = df_fam.merge(rna_expr_fam,left_on='Family',right_on='Family')\n",
    "\n",
    "\n",
    "\n",
    "    \n",
    "del df_fam['TFName']\n",
    "df_fam = df_fam.drop_duplicates()\n",
    "del rna_expr['Family']\n",
    "rna_expr = rna_expr.T\n",
    "motifs6 = motifs6.T\n",
    "\n",
    "\n",
    "df_fam['rna_motif_correlation'] = 0.0\n",
    "df_fam['rna_motif_pval'] = 1.0\n",
    "\n",
    "for entry in df_fam.index:\n",
    "    \n",
    "    motif_tmp = df_fam.loc[entry,'MotifName']\n",
    "    tf_tmp = df_fam.loc[entry,'TF']\n",
    "    \n",
    "    rho, pval = stats.pearsonr(motifs6[motif_tmp].values , rna_expr[tf_tmp].values)\n",
    "    \n",
    "    \n",
    "    \n",
    "    df_fam.loc[entry,'rna_motif_correlation'] = rho\n",
    "    df_fam.loc[entry,'rna_motif_pval'] = pval\n",
    "    \n",
    "    \n",
    "\n",
    "# correlation with H3K27ac\n",
    "motif_basedir = \"/Users/LoboM/Dropbox/sharedUMass_Macrina_Rene/hESC_2021/bulk/ATAC/per_sample_integration_grn_etc/nov17_2022/input/with_filter_option_but_replicates_averaged/consensus_40k_maelstrom_op_ATAC_H3K27ac/\"\n",
    "all_motifs = pd.read_csv(motif_basedir + \"final.out.txt\",sep='\\t',index_col=0)\n",
    "\n",
    "imp_cols = ['z-score hESC',  'z-score hDE','z-score hAFE','z-score hPFE']\n",
    "\n",
    "# all_motifs.columns = imp_cols\n",
    "motifs6 = all_motifs[imp_cols]\n",
    "\n",
    "motifs6 = motifs6.T\n",
    "\n",
    "df_fam['h3k27ac_motif_correlation'] = 0.0\n",
    "df_fam['h3k27ac_motif_pval'] = 1.0\n",
    "for entry in df_fam.index:\n",
    "    \n",
    "    \n",
    "    \n",
    "    motif_tmp = df_fam.loc[entry,'MotifName']\n",
    "    tf_tmp = df_fam.loc[entry,'TF']\n",
    "    \n",
    "    if motif_tmp not in motifs6.columns:\n",
    "        continue\n",
    "    \n",
    "    rho, pval = stats.pearsonr(motifs6[motif_tmp].values , rna_expr[tf_tmp].values)\n",
    "    \n",
    "    \n",
    "    \n",
    "    df_fam.loc[entry,'h3k27ac_motif_correlation'] = rho\n",
    "    df_fam.loc[entry,'h3k27ac_motif_pval'] = pval\n",
    "    \n",
    "\n",
    "\n",
    "    \n",
    "# correlation with H3K4me2\n",
    "motif_basedir = \"/Users/LoboM/Dropbox/sharedUMass_Macrina_Rene/hESC_2021/bulk/ATAC/per_sample_integration_grn_etc/nov17_2022/input/with_filter_option_but_replicates_averaged/consensus_40k_maelstrom_op_ATAC_H3K4me2/\"\n",
    "all_motifs = pd.read_csv(motif_basedir + \"final.out.txt\",sep='\\t',index_col=0)\n",
    "\n",
    "imp_cols = ['z-score hESC',  'z-score hDE','z-score hAFE','z-score hPFE']\n",
    "\n",
    "# all_motifs.columns = imp_cols\n",
    "motifs6 = all_motifs[imp_cols]\n",
    "\n",
    "motifs6 = motifs6.T\n",
    "\n",
    "df_fam['h3k4me2_motif_correlation'] = 0.0\n",
    "df_fam['h3k4me2_motif_pval'] = 1.0\n",
    "for entry in df_fam.index:\n",
    "    \n",
    "    \n",
    "    motif_tmp = df_fam.loc[entry,'MotifName']\n",
    "    tf_tmp = df_fam.loc[entry,'TF']\n",
    "    \n",
    "    if motif_tmp not in motifs6.columns:\n",
    "        continue\n",
    "        \n",
    "    rho, pval = stats.pearsonr(motifs6[motif_tmp].values , rna_expr[tf_tmp].values)\n",
    "    \n",
    "    \n",
    "    \n",
    "    df_fam.loc[entry,'h3k4me2_motif_correlation'] = rho\n",
    "    df_fam.loc[entry,'h3k4me2_motif_pval'] = pval\n",
    "    \n",
    "\n",
    "\n",
    "\n",
    "\n",
    "# correlation with H3K27me3\n",
    "motif_basedir = \"/Users/LoboM/Dropbox/sharedUMass_Macrina_Rene/hESC_2021/bulk/ATAC/per_sample_integration_grn_etc/nov17_2022/input/with_filter_option_but_replicates_averaged/consensus_40k_maelstrom_op_ATAC_H3K27me3/\"\n",
    "all_motifs = pd.read_csv(motif_basedir + \"final.out.txt\",sep='\\t',index_col=0)\n",
    "\n",
    "imp_cols = ['z-score hESC',  'z-score hDE','z-score hAFE','z-score hPFE']\n",
    "\n",
    "# all_motifs.columns = imp_cols\n",
    "motifs6 = all_motifs[imp_cols]\n",
    "motifs6 = motifs6.T\n",
    "\n",
    "df_fam['h3k27me3_motif_correlation'] = 0.0\n",
    "df_fam['h3k27me3_motif_pval'] = 1.0\n",
    "for entry in df_fam.index:\n",
    "    \n",
    "    motif_tmp = df_fam.loc[entry,'MotifName']\n",
    "    tf_tmp = df_fam.loc[entry,'TF']\n",
    "    \n",
    "    if motif_tmp not in motifs6.columns:\n",
    "        continue\n",
    "        \n",
    "    rho, pval = stats.pearsonr(motifs6[motif_tmp].values , rna_expr[tf_tmp].values)\n",
    "    \n",
    "    \n",
    "    \n",
    "    df_fam.loc[entry,'h3k27me3_motif_correlation'] = rho\n",
    "    df_fam.loc[entry,'h3k27me3_motif_pval'] = pval\n",
    "\n",
    "\n",
    "\n",
    "# exclude non expressed genes\n",
    "\n",
    "# exclude < 50 raw counts\n",
    "# df_fam.to_csv(\"intermediate_no_rna_cutoffs_ryan.csv\")\n",
    "\n",
    "\n",
    "rna_expr_subset = pd.read_csv(\"/Users/LoboM/Dropbox/sharedUMass_Macrina_Rene/hESC_2021/bulk/GRN/input/RNA_scaled_matrix_for_integration.csv\",index_col=0)\n",
    " \n",
    "# rna_expr = rna_expr.loc[rna_expr_subset.index,:]\n",
    "\n",
    "raw_rna = pd.read_csv(\"/Users/LoboM/Dropbox/sharedUMass_Macrina_Rene/hESC_2021/bulk/RNA//downstream_figures/raw_counts_all.csv\",index_col=0)\n",
    "raw_rna = raw_rna[raw_rna.max(axis=1) > 50]\n",
    "\n",
    "# rna_expr = rna_expr.loc[list(set(raw_rna.index).intersection(rna_expr.index)),:]\n",
    "\n",
    "print(df_fam.shape)\n",
    "df_fam = df_fam[df_fam['TF'].isin(list(rna_expr_subset.index))] # in DEGs\n",
    "print(df_fam.shape)\n",
    "df_fam = df_fam[df_fam['TF'].isin(list(raw_rna.index))]\n",
    "print(df_fam.shape)\n",
    "\n",
    "\n",
    "\n",
    "df_fam.to_csv(\"all_motif_rna_correlation_fig4_FINAL.csv\")"
   ]
  },
  {
   "cell_type": "code",
   "execution_count": null,
   "metadata": {},
   "outputs": [],
   "source": []
  },
  {
   "cell_type": "code",
   "execution_count": null,
   "metadata": {},
   "outputs": [],
   "source": []
  },
  {
   "cell_type": "markdown",
   "metadata": {},
   "source": [
    "#### step 1 - correlation"
   ]
  },
  {
   "cell_type": "code",
   "execution_count": null,
   "metadata": {},
   "outputs": [],
   "source": [
    "\n",
    "rna_motif_corr = 0.7\n",
    "\n",
    "h327ac_thresh = 0.5\n",
    "h3k4me2_thresh = 0.5\n",
    "h3k27me3_thresh = 0.5\n",
    "\n",
    "\n",
    "df2 = df_fam[(~df_fam['rna_motif_correlation'].isna()) & (df_fam['rna_motif_correlation']>rna_motif_corr) & \n",
    "            ((df_fam['h3k27ac_motif_correlation']>h327ac_thresh) | (df_fam['h3k27me3_motif_correlation']>h3k27me3_thresh) |\n",
    "            (df_fam['h3k4me2_motif_correlation']>h3k4me2_thresh))]    \n",
    "print(df2.shape)"
   ]
  },
  {
   "cell_type": "code",
   "execution_count": null,
   "metadata": {},
   "outputs": [],
   "source": []
  },
  {
   "cell_type": "markdown",
   "metadata": {},
   "source": [
    "#### exclude low z-score"
   ]
  },
  {
   "cell_type": "code",
   "execution_count": null,
   "metadata": {},
   "outputs": [],
   "source": [
    "zscore_cutoff = 2\n",
    "\n",
    "motif_basedir = \"/Users/LoboM/Dropbox/sharedUMass_Macrina_Rene/hESC_2021/bulk/ATAC/per_sample_integration_grn_etc/nov17_2022/input/with_filter_option_but_replicates_averaged/consensus_40k_maelstrom_op_ATAC/\"\n",
    "all_motifs = pd.read_csv(motif_basedir + \"final.out.txt\",sep='\\t',index_col=0)\n",
    "\n",
    "\n",
    "df3 = df2.join(all_motifs,on='MotifName')\n",
    "df3['motif_TF'] = df3['MotifName'].astype('str')  + '|' +  df3['TF'].astype('str')\n",
    "df3 = df3.set_index('motif_TF')\n",
    "\n",
    "\n",
    "\n",
    "df4 = df3[#(df6['% with motif']>=per_zscore) &\n",
    "                   #(df6['rna_motif_correlation']>rna_corr) & \n",
    "                  #(((df6['corr hESC_rep1'] > corr_atac) & (df6['corr hESC_rep3'] > corr_atac)) |\n",
    "                  #((df6['corr hDE_rep1'] > corr_atac) & (df6['corr hDE_rep4'] > corr_atac)) | \n",
    "                  #((df6['corr hAFE_rep1'] > corr_atac) & (df6['corr hAFE_rep2'] > corr_atac)) | \n",
    "                  #((df6['corr hPFE_rep1'] > corr_atac))) & \n",
    "                  ((df3['z-score hESC'] > zscore_cutoff) | # & (df6['z-score hESC_rep3'] > zscore_cutoff)) |\n",
    "                  (df3['z-score hDE'] > zscore_cutoff) | # & (df6['z-score hDE_rep4'] > zscore_cutoff)) | \n",
    "                  (df3['z-score hAFE'] > zscore_cutoff) | # & (df6['z-score hAFE_rep2'] > zscore_cutoff)) | \n",
    "                  (df3['z-score hPFE'] > zscore_cutoff))]\n",
    "print(df4.shape)"
   ]
  },
  {
   "cell_type": "code",
   "execution_count": null,
   "metadata": {},
   "outputs": [],
   "source": []
  },
  {
   "cell_type": "markdown",
   "metadata": {},
   "source": [
    "#### tax max motif for each TF"
   ]
  },
  {
   "cell_type": "code",
   "execution_count": null,
   "metadata": {},
   "outputs": [],
   "source": [
    "### take max motif for each TF\n",
    "idx = df4.groupby(['TF'])['rna_motif_correlation'].transform(max) == df4['rna_motif_correlation']\n",
    "df5 = df4[idx]\n",
    "print(df5.shape)"
   ]
  },
  {
   "cell_type": "code",
   "execution_count": null,
   "metadata": {},
   "outputs": [],
   "source": []
  },
  {
   "cell_type": "code",
   "execution_count": null,
   "metadata": {},
   "outputs": [],
   "source": []
  },
  {
   "cell_type": "code",
   "execution_count": null,
   "metadata": {},
   "outputs": [],
   "source": [
    "df5.shape"
   ]
  },
  {
   "cell_type": "code",
   "execution_count": null,
   "metadata": {},
   "outputs": [],
   "source": [
    "df5.to_csv(\"11222022_FINAL_with_histone/all_selected_motifs_FINAL_v2.csv\") \n",
    "#filename is all_selected_motifs_FINAL_v2_150"
   ]
  },
  {
   "cell_type": "code",
   "execution_count": null,
   "metadata": {},
   "outputs": [],
   "source": [
    "df7 = df5.join(rna_expr.T,on='TF')\n",
    "\n",
    "df7['rna_var'] = (df7[['hES','hDE','hAFE','hPFE']].std(axis=1))   /(df7[['hES','hDE','hAFE','hPFE']].mean(axis=1))\n"
   ]
  },
  {
   "cell_type": "code",
   "execution_count": null,
   "metadata": {},
   "outputs": [],
   "source": [
    "df7.to_csv(\"all_selected_motifs_FINAL_v2.csv\")"
   ]
  },
  {
   "cell_type": "code",
   "execution_count": null,
   "metadata": {},
   "outputs": [],
   "source": [
    "df10 = df7.sort_values('rna_var',ascending=False).groupby('MotifName').head(n=2) # .reset_index(drop=True)\n",
    "\n",
    "print(df10.shape[0])"
   ]
  },
  {
   "cell_type": "code",
   "execution_count": null,
   "metadata": {},
   "outputs": [],
   "source": [
    "df10.to_csv(\"top2_FINAL_v2_150.csv\")"
   ]
  },
  {
   "cell_type": "code",
   "execution_count": null,
   "metadata": {},
   "outputs": [],
   "source": [
    "df10 = pd.read_csv(\"11222022_FINAL_with_histone/top2_FINAL_v2_150.csv\",index_col=0)"
   ]
  },
  {
   "cell_type": "code",
   "execution_count": null,
   "metadata": {},
   "outputs": [],
   "source": []
  },
  {
   "cell_type": "markdown",
   "metadata": {},
   "source": [
    "### plotting"
   ]
  },
  {
   "cell_type": "code",
   "execution_count": null,
   "metadata": {},
   "outputs": [],
   "source": [
    "import scanpy as sc\n",
    "import matplotlib.pyplot as plt\n",
    "plt.rcParams['figure.figsize']=(8,8) #rescale figures\n",
    "sc.settings.verbosity = 3\n",
    "sc.logging.print_versions()\n",
    "sc.set_figure_params(scanpy=True, dpi_save=400,dpi=150)\n",
    "\n",
    "\n",
    "import seaborn as sns\n",
    "import matplotlib.pyplot as plt\n",
    "plt.rcParams['pdf.fonttype'] = 42"
   ]
  },
  {
   "cell_type": "code",
   "execution_count": null,
   "metadata": {},
   "outputs": [],
   "source": [
    "import seaborn as sns\n",
    "import matplotlib.pyplot as plt\n",
    "plt.rcParams['pdf.fonttype'] = 42"
   ]
  },
  {
   "cell_type": "code",
   "execution_count": null,
   "metadata": {},
   "outputs": [],
   "source": []
  },
  {
   "cell_type": "code",
   "execution_count": null,
   "metadata": {},
   "outputs": [],
   "source": [
    "%matplotlib inline"
   ]
  },
  {
   "cell_type": "code",
   "execution_count": null,
   "metadata": {},
   "outputs": [],
   "source": []
  },
  {
   "cell_type": "markdown",
   "metadata": {},
   "source": [
    "## plot split file"
   ]
  },
  {
   "cell_type": "code",
   "execution_count": null,
   "metadata": {},
   "outputs": [],
   "source": []
  },
  {
   "cell_type": "code",
   "execution_count": null,
   "metadata": {},
   "outputs": [],
   "source": [
    "df10_plot = df10[['z-score hESC','z-score hDE','z-score hAFE','z-score hPFE']]\n",
    "\n",
    "idx_order = list(df10_plot[df10_plot.idxmax(axis=1) == 'z-score hESC'].index)\n",
    "idx_order.sort()\n",
    "esc_top = idx_order.copy()\n",
    "print(len(esc_top))\n",
    "print(esc_top)\n",
    "\n",
    "de_max = list(df10_plot[df10_plot.idxmax(axis=1) == 'z-score hDE'].index)\n",
    "tmp_idx = list(set(de_max) - set(idx_order))\n",
    "tmp_idx.sort()\n",
    "de_top = tmp_idx.copy()\n",
    "idx_order.extend(tmp_idx)\n",
    "print(len(de_top))\n",
    "print(de_top)\n",
    "\n",
    "afe_max = list(df10_plot[df10_plot.idxmax(axis=1) == 'z-score hAFE'].index)\n",
    "tmp_idx = list(set(afe_max) - set(idx_order))\n",
    "tmp_idx.sort()\n",
    "afe_top = tmp_idx.copy()\n",
    "idx_order.extend(tmp_idx)\n",
    "print(len(afe_top))\n",
    "print(afe_top)\n",
    "\n",
    "\n",
    "pfe_max = list(df10_plot[df10_plot.idxmax(axis=1) == 'z-score hPFE'].index)\n",
    "tmp_idx = list(set(pfe_max) - set(idx_order))\n",
    "tmp_idx.sort()\n",
    "pfe_top = tmp_idx.copy()\n",
    "idx_order.extend(tmp_idx)\n",
    "print(len(pfe_top))\n",
    "print(pfe_top)"
   ]
  },
  {
   "cell_type": "code",
   "execution_count": null,
   "metadata": {},
   "outputs": [],
   "source": [
    "df10_plot_master = df10_plot.copy()"
   ]
  },
  {
   "cell_type": "markdown",
   "metadata": {},
   "source": [
    "# ESC plots"
   ]
  },
  {
   "cell_type": "code",
   "execution_count": null,
   "metadata": {},
   "outputs": [],
   "source": []
  },
  {
   "cell_type": "code",
   "execution_count": null,
   "metadata": {
    "scrolled": true
   },
   "outputs": [],
   "source": [
    "len(esc_top)"
   ]
  },
  {
   "cell_type": "code",
   "execution_count": null,
   "metadata": {},
   "outputs": [],
   "source": [
    "df10_plot = df10_plot_master.copy()\n",
    "df10_plot = df10_plot.loc[esc_top,df10_plot.columns]"
   ]
  },
  {
   "cell_type": "code",
   "execution_count": null,
   "metadata": {},
   "outputs": [],
   "source": [
    "df10_plot.shape"
   ]
  },
  {
   "cell_type": "code",
   "execution_count": null,
   "metadata": {},
   "outputs": [],
   "source": []
  },
  {
   "cell_type": "code",
   "execution_count": null,
   "metadata": {},
   "outputs": [],
   "source": [
    "df10_plot.index = [entry.split('|')[0].replace('GM.5.0.','') for entry in df10_plot.index]\n",
    "df10_plot.columns = ['hESC','hDE','hAFE','hPFE']\n",
    "df10_plot.index.name = None\n",
    "import anndata\n",
    "adata = anndata.AnnData(X=df10_plot.T)\n",
    "adata.var_names_make_unique()"
   ]
  },
  {
   "cell_type": "code",
   "execution_count": null,
   "metadata": {},
   "outputs": [],
   "source": [
    "adata.obs['sample'] = adata.obs.index"
   ]
  },
  {
   "cell_type": "code",
   "execution_count": null,
   "metadata": {},
   "outputs": [],
   "source": [
    "sc.settings.figdir='11222022_FINAL_with_histone/150_split_rows_new_colors/'"
   ]
  },
  {
   "cell_type": "code",
   "execution_count": null,
   "metadata": {},
   "outputs": [],
   "source": [
    "import seaborn as sns\n",
    "import matplotlib.pyplot as plt\n",
    "plt.rcParams['pdf.fonttype'] = 42"
   ]
  },
  {
   "cell_type": "code",
   "execution_count": null,
   "metadata": {},
   "outputs": [],
   "source": [
    "figdir = '11222022_FINAL_with_histone/150_split_rows_new_colors/'"
   ]
  },
  {
   "cell_type": "code",
   "execution_count": null,
   "metadata": {},
   "outputs": [],
   "source": [
    "%matplotlib inline"
   ]
  },
  {
   "cell_type": "code",
   "execution_count": null,
   "metadata": {},
   "outputs": [],
   "source": [
    "plt.rcParams[\"savefig.dpi\"] = 400\n",
    "plt.figure(figsize=[4,4])\n",
    "\n",
    "sc.pl.matrixplot(adata,var_names=adata.var.index,categories_order=['hESC','hDE','hAFE','hPFE'],groupby='sample',cmap='Purples',save='_split_atac_esc_name_fix.pdf',standard_scale='var',swap_axes=True)"
   ]
  },
  {
   "cell_type": "code",
   "execution_count": null,
   "metadata": {},
   "outputs": [],
   "source": [
    "\n",
    "df10_plot = df10_plot_master.loc[esc_top,df10_plot_master.columns]\n",
    "df10rna_plot = df10.loc[df10_plot.index,['hES','hDE','hAFE','hPFE']]"
   ]
  },
  {
   "cell_type": "code",
   "execution_count": null,
   "metadata": {},
   "outputs": [],
   "source": []
  },
  {
   "cell_type": "code",
   "execution_count": null,
   "metadata": {},
   "outputs": [],
   "source": [
    "df10rna_plot['TF'] = [entry.split('|')[1] for entry in df10rna_plot.index]\n",
    "\n",
    "df10rna_plot = df10rna_plot.set_index('TF')\n",
    "df10rna_plot.index.name = None\n",
    "\n",
    "\n",
    "df10rna_plot.columns = ['hESC','hDE','hAFE','hPFE']"
   ]
  },
  {
   "cell_type": "code",
   "execution_count": null,
   "metadata": {},
   "outputs": [],
   "source": [
    "rna_ann = df10rna_plot.T\n",
    "adata_rna = anndata.AnnData(X=rna_ann)\n",
    "adata_rna.var_names_make_unique()\n",
    "adata_rna.obs['sample'] = adata_rna.obs.index\n",
    "\n",
    "\n",
    "\n",
    "rna = sc.pl.matrixplot(adata_rna,var_names=adata_rna.var.index,cmap='cividis',# show_gene_labels=True,\n",
    "                 categories_order=['hESC','hDE','hAFE','hPFE'],groupby='sample',save='_rna_split_esc.pdf',swap_axes=True,standard_scale='var')\n"
   ]
  },
  {
   "cell_type": "code",
   "execution_count": null,
   "metadata": {},
   "outputs": [],
   "source": [
    "# rna = vars(rna)['values_df']"
   ]
  },
  {
   "cell_type": "code",
   "execution_count": null,
   "metadata": {},
   "outputs": [],
   "source": [
    "h3k27ac_dir = \"/Users/LoboM/Dropbox/sharedUMass_Macrina_Rene/hESC_2021/bulk/ATAC/per_sample_integration_grn_etc/nov17_2022/input/with_filter_option_but_replicates_averaged/consensus_40k_maelstrom_op_ATAC_H3K27ac/\"\n",
    "h3k27ac = pd.read_csv(h3k27ac_dir + 'final.out.txt',sep='\\t',index_col=0)\n",
    "\n",
    "\n",
    "df10_plot = df10_plot_master.loc[esc_top,df10_plot_master.columns]\n",
    "\n",
    "h3k27ac_heatmap = pd.DataFrame(0.0,index=df10_plot.index,columns= ['z-score hESC', 'z-score hDE', 'z-score hAFE', 'z-score hPFE'])\n",
    "\n",
    "get_tf = []\n",
    "for entry in df10.index:\n",
    "    if entry in df10_plot.index:\n",
    "        entry2 = df10.loc[entry,'MotifName']\n",
    "        if entry2 in h3k27ac.index:\n",
    "            h3k27ac_heatmap.loc[entry,'z-score hESC'] = list(h3k27ac.loc[entry2,['z-score hESC']])[0]\n",
    "            h3k27ac_heatmap.loc[entry,'z-score hDE'] = list(h3k27ac.loc[entry2,['z-score hDE']])[0]\n",
    "            h3k27ac_heatmap.loc[entry,'z-score hAFE'] = list(h3k27ac.loc[entry2,['z-score hAFE']])[0]\n",
    "            h3k27ac_heatmap.loc[entry,'z-score hPFE'] = list(h3k27ac.loc[entry2,['z-score hPFE']])[0]\n",
    "        \n",
    "h3k27ac_heatmap.index = [entry.split('|')[0].replace('GM.5.0.','') for entry in h3k27ac_heatmap.index]\n",
    "h3k27ac_heatmap.columns = ['hESC','hDE','hAFE','hPFE']\n",
    "\n",
    "# h3k27ac_heatmap.loc[h3k27ac_heatmap.abs().max(axis=1) < 1,:] = 0\n",
    "adata_ac = anndata.AnnData(X=h3k27ac_heatmap.T)\n",
    "adata_ac.var_names_make_unique()\n",
    "adata_ac.obs['sample'] = adata_ac.obs.index\n",
    "h3k27ac = sc.pl.matrixplot(adata_ac,var_names=adata_ac.var.index,cmap='Greens',# show_gene_labels=True,\n",
    "                 categories_order=adata_ac.obs.index,groupby='sample',swap_axes=True,save='_split_h3k27ac_esc_with_histone_cutoff.pdf',standard_scale='var')\n"
   ]
  },
  {
   "cell_type": "code",
   "execution_count": null,
   "metadata": {},
   "outputs": [],
   "source": []
  },
  {
   "cell_type": "code",
   "execution_count": null,
   "metadata": {
    "scrolled": true
   },
   "outputs": [],
   "source": [
    "h3k4me2_dir = \"/Users/LoboM/Dropbox/sharedUMass_Macrina_Rene/hESC_2021/bulk/ATAC/per_sample_integration_grn_etc/nov17_2022/input/with_filter_option_but_replicates_averaged/consensus_40k_maelstrom_op_ATAC_H3K4me2/\"\n",
    "h3k4me2 = pd.read_csv(h3k4me2_dir + 'final.out.txt',sep='\\t',index_col=0)\n",
    "\n",
    "df10_plot = df10_plot_master.loc[esc_top,df10_plot_master.columns]\n",
    "\n",
    "h3k4me2_heatmap = pd.DataFrame(0.0,index=df10_plot.index,columns= ['z-score hESC', 'z-score hDE', 'z-score hAFE', 'z-score hPFE'])\n",
    "\n",
    "get_tf = []\n",
    "for entry in df10.index:\n",
    "    if entry in df10_plot.index:\n",
    "        entry2 = df10.loc[entry,'MotifName']\n",
    "        if entry2 in h3k4me2.index:\n",
    "            h3k4me2_heatmap.loc[entry,'z-score hESC'] = list(h3k4me2.loc[entry2,['z-score hESC']])[0]\n",
    "            h3k4me2_heatmap.loc[entry,'z-score hDE'] = list(h3k4me2.loc[entry2,['z-score hDE']])[0]\n",
    "            h3k4me2_heatmap.loc[entry,'z-score hAFE'] = list(h3k4me2.loc[entry2,['z-score hAFE']])[0]\n",
    "            h3k4me2_heatmap.loc[entry,'z-score hPFE'] = list(h3k4me2.loc[entry2,['z-score hPFE']])[0]\n",
    "\n",
    "h3k4me2_heatmap.index = [entry.split('|')[0].replace('GM.5.0.','') for entry in h3k4me2_heatmap.index]\n",
    "h3k4me2_heatmap.columns = ['hESC','hDE','hAFE','hPFE']\n",
    "       \n",
    "# h3k4me2_heatmap.loc[h3k4me2_heatmap.abs().max(axis=1) < 1,:] = 0\n",
    "adata_h3k4me2 = anndata.AnnData(X=h3k4me2_heatmap.T)\n",
    "adata_h3k4me2.var_names_make_unique()\n",
    "adata_h3k4me2.obs['sample'] = adata_h3k4me2.obs.index\n",
    "\n",
    "import matplotlib.pyplot as plt\n",
    "from matplotlib.colors import LinearSegmentedColormap\n",
    "import numpy as np\n",
    "\n",
    "\n",
    "\n",
    "h3k4me2 = sc.pl.matrixplot(adata_h3k4me2,var_names=adata_h3k4me2.var.index,cmap='Oranges',# show_gene_labels=True,\n",
    "                 groupby='sample',categories_order=adata_h3k4me2.obs.index,swap_axes=True,save=\"_h3k4me2_split_esc_no_cutoff.pdf\",standard_scale='var')"
   ]
  },
  {
   "cell_type": "code",
   "execution_count": null,
   "metadata": {},
   "outputs": [],
   "source": []
  },
  {
   "cell_type": "code",
   "execution_count": null,
   "metadata": {
    "scrolled": true
   },
   "outputs": [],
   "source": [
    "h3k27me3_dir = \"/Users/LoboM/Dropbox/sharedUMass_Macrina_Rene/hESC_2021/bulk/ATAC/per_sample_integration_grn_etc/nov17_2022/input/with_filter_option_but_replicates_averaged/consensus_40k_maelstrom_op_ATAC_H3K27me3/\"\n",
    "\n",
    "h3k27me3 = pd.read_csv(h3k27me3_dir + 'final.out.txt',sep='\\t',index_col=0)\n",
    "h3k27me3_heatmap = pd.DataFrame(0.0,index=df10_plot.index,columns= ['z-score hESC', 'z-score hDE', 'z-score hAFE', 'z-score hPFE'])\n",
    "\n",
    "df10_plot = df10_plot_master.loc[esc_top,df10_plot_master.columns]\n",
    "\n",
    "\n",
    "\n",
    "get_tf = []\n",
    "for entry in df10.index:\n",
    "    if entry in df10_plot.index:\n",
    "        entry2 = df10.loc[entry,'MotifName']\n",
    "        if entry2 in h3k27me3.index:\n",
    "            h3k27me3_heatmap.loc[entry,'z-score hESC'] = list(h3k27me3.loc[entry2,['z-score hESC']])[0]\n",
    "            h3k27me3_heatmap.loc[entry,'z-score hDE'] = list(h3k27me3.loc[entry2,['z-score hDE']])[0]\n",
    "            h3k27me3_heatmap.loc[entry,'z-score hAFE'] = list(h3k27me3.loc[entry2,['z-score hAFE']])[0]\n",
    "            h3k27me3_heatmap.loc[entry,'z-score hPFE'] = list(h3k27me3.loc[entry2,['z-score hPFE']])[0]\n",
    "\n",
    "h3k27me3_heatmap.index = [entry.split('|')[0].replace('GM.5.0.','') for entry in h3k27me3_heatmap.index]\n",
    "h3k27me3_heatmap.columns = ['hESC','hDE','hAFE','hPFE']\n",
    "\n",
    "\n",
    "# h3k27me3_heatmap.loc[h3k27me3_heatmap.abs().max(axis=1) < 1,:] = 0\n",
    "\n",
    "adata_h3k27me3 = anndata.AnnData(X=h3k27me3_heatmap.T)\n",
    "adata_h3k27me3.var_names_make_unique()\n",
    "adata_h3k27me3.obs['sample'] = adata_h3k27me3.obs.index\n",
    "sc.pl.matrixplot(adata_h3k27me3,var_names=adata_h3k27me3.var.index,cmap='Reds',# show_gene_labels=True,\n",
    "                 groupby='sample',categories_order=adata_h3k27me3.obs.index,swap_axes=True,save='_h3k27me3_split_esc_no_cutoff.pdf',standard_scale='var')"
   ]
  },
  {
   "cell_type": "markdown",
   "metadata": {},
   "source": [
    "# DE plots"
   ]
  },
  {
   "cell_type": "code",
   "execution_count": null,
   "metadata": {},
   "outputs": [],
   "source": []
  },
  {
   "cell_type": "code",
   "execution_count": null,
   "metadata": {},
   "outputs": [],
   "source": [
    "df10_plot = df10_plot_master.loc[de_top,df10_plot_master.columns]"
   ]
  },
  {
   "cell_type": "code",
   "execution_count": null,
   "metadata": {},
   "outputs": [],
   "source": [
    "df10_plot.columns = ['hESC','hDE','hAFE','hPFE']"
   ]
  },
  {
   "cell_type": "code",
   "execution_count": null,
   "metadata": {},
   "outputs": [],
   "source": [
    "df10_plot.index = [entry.split('|')[0].replace('GM.5.0.','') for entry in df10_plot.index]\n"
   ]
  },
  {
   "cell_type": "code",
   "execution_count": null,
   "metadata": {},
   "outputs": [],
   "source": [
    "df10_plot.shape"
   ]
  },
  {
   "cell_type": "code",
   "execution_count": null,
   "metadata": {},
   "outputs": [],
   "source": [
    "df10_plot.index.name = None\n",
    "import anndata\n",
    "adata = anndata.AnnData(X=df10_plot.T)\n",
    "adata.var_names_make_unique()"
   ]
  },
  {
   "cell_type": "code",
   "execution_count": null,
   "metadata": {},
   "outputs": [],
   "source": [
    "adata.obs['sample'] = adata.obs.index"
   ]
  },
  {
   "cell_type": "code",
   "execution_count": null,
   "metadata": {},
   "outputs": [],
   "source": []
  },
  {
   "cell_type": "code",
   "execution_count": null,
   "metadata": {},
   "outputs": [],
   "source": [
    "import seaborn as sns\n",
    "import matplotlib.pyplot as plt\n",
    "plt.rcParams['pdf.fonttype'] = 42"
   ]
  },
  {
   "cell_type": "code",
   "execution_count": null,
   "metadata": {},
   "outputs": [],
   "source": []
  },
  {
   "cell_type": "code",
   "execution_count": null,
   "metadata": {},
   "outputs": [],
   "source": [
    "%matplotlib inline"
   ]
  },
  {
   "cell_type": "code",
   "execution_count": null,
   "metadata": {},
   "outputs": [],
   "source": []
  },
  {
   "cell_type": "code",
   "execution_count": null,
   "metadata": {},
   "outputs": [],
   "source": [
    "plt.rcParams[\"savefig.dpi\"] = 400\n",
    "plt.figure(figsize=[4,4])\n",
    "\n",
    "sc.pl.matrixplot(adata,var_names=adata.var.index,categories_order=['hESC','hDE','hAFE','hPFE'],groupby='sample',cmap='Purples',save='_split_atac_de_name_fix.pdf',standard_scale='var',swap_axes=True)"
   ]
  },
  {
   "cell_type": "code",
   "execution_count": null,
   "metadata": {},
   "outputs": [],
   "source": [
    "# atac = vars(motif)['values_df']"
   ]
  },
  {
   "cell_type": "code",
   "execution_count": null,
   "metadata": {},
   "outputs": [],
   "source": [
    "df10_plot =df10_plot_master.loc[de_top,df10_plot_master.columns]\n",
    "df10rna_plot = df10.loc[df10_plot.index,['hES','hDE','hAFE','hPFE']]"
   ]
  },
  {
   "cell_type": "code",
   "execution_count": null,
   "metadata": {},
   "outputs": [],
   "source": [
    "df10rna_plot['TF'] = [entry.split('|')[1] for entry in df10rna_plot.index]\n",
    "df10rna_plot = df10rna_plot.set_index('TF')\n",
    "df10rna_plot.index.name = None\n",
    "df10rna_plot.columns = ['hESC','hDE','hAFE','hPFE']"
   ]
  },
  {
   "cell_type": "code",
   "execution_count": null,
   "metadata": {},
   "outputs": [],
   "source": [
    "rna_ann = df10rna_plot.T\n",
    "adata_rna = anndata.AnnData(X=rna_ann)\n",
    "adata_rna.var_names_make_unique()\n",
    "adata_rna.obs['sample'] = adata_rna.obs.index\n",
    "\n",
    "\n",
    "\n",
    "rna = sc.pl.matrixplot(adata_rna,var_names=adata_rna.var.index,cmap='cividis',# show_gene_labels=True,\n",
    "                 categories_order=['hESC','hDE','hAFE','hPFE'],groupby='sample',save='_rna_split_de.pdf',swap_axes=True,standard_scale='var')\n"
   ]
  },
  {
   "cell_type": "code",
   "execution_count": null,
   "metadata": {},
   "outputs": [],
   "source": [
    "# rna = vars(rna)['values_df']"
   ]
  },
  {
   "cell_type": "code",
   "execution_count": null,
   "metadata": {},
   "outputs": [],
   "source": [
    "h3k27ac_dir = \"/Users/LoboM/Dropbox/sharedUMass_Macrina_Rene/hESC_2021/bulk/ATAC/per_sample_integration_grn_etc/nov17_2022/input/with_filter_option_but_replicates_averaged/consensus_40k_maelstrom_op_ATAC_H3K27ac/\"\n",
    "h3k27ac = pd.read_csv(h3k27ac_dir + 'final.out.txt',sep='\\t',index_col=0)\n",
    "\n",
    "df10_plot = df10_plot_master.loc[de_top,df10_plot_master.columns]\n",
    "\n",
    "\n",
    "\n",
    "h3k27ac_heatmap = pd.DataFrame(0.0,index=df10_plot.index,columns= ['z-score hESC', 'z-score hDE', 'z-score hAFE', 'z-score hPFE'])\n",
    "\n",
    "get_tf = []\n",
    "for entry in df10.index:\n",
    "    if entry in df10_plot.index:\n",
    "        entry2 = df10.loc[entry,'MotifName']\n",
    "        if entry2 in h3k27ac.index:\n",
    "            h3k27ac_heatmap.loc[entry,'z-score hESC'] = list(h3k27ac.loc[entry2,['z-score hESC']])[0]\n",
    "            h3k27ac_heatmap.loc[entry,'z-score hDE'] = list(h3k27ac.loc[entry2,['z-score hDE']])[0]\n",
    "            h3k27ac_heatmap.loc[entry,'z-score hAFE'] = list(h3k27ac.loc[entry2,['z-score hAFE']])[0]\n",
    "            h3k27ac_heatmap.loc[entry,'z-score hPFE'] = list(h3k27ac.loc[entry2,['z-score hPFE']])[0]\n",
    "        \n",
    "h3k27ac_heatmap.index = [entry.split('|')[0].replace('GM.5.0.','') for entry in h3k27ac_heatmap.index]\n",
    "h3k27ac_heatmap.columns = ['hESC','hDE','hAFE','hPFE']\n",
    "        \n",
    "# h3k27ac_heatmap.loc[h3k27ac_heatmap.abs().max(axis=1) < 1,:] = 0\n",
    "adata_ac = anndata.AnnData(X=h3k27ac_heatmap.T)\n",
    "adata_ac.var_names_make_unique()\n",
    "adata_ac.obs['sample'] = adata_ac.obs.index\n",
    "h3k27ac = sc.pl.matrixplot(adata_ac,var_names=adata_ac.var.index,cmap='Greens',# show_gene_labels=True,\n",
    "                 categories_order=adata_ac.obs.index,groupby='sample',swap_axes=True,save='_split_h3k27ac_de_with_cutoff.pdf',standard_scale='var')\n"
   ]
  },
  {
   "cell_type": "code",
   "execution_count": null,
   "metadata": {},
   "outputs": [],
   "source": [
    "# h3k27ac = vars(h3k27ac)['values_df']"
   ]
  },
  {
   "cell_type": "code",
   "execution_count": null,
   "metadata": {},
   "outputs": [],
   "source": [
    "h3k4me2_dir = \"/Users/LoboM/Dropbox/sharedUMass_Macrina_Rene/hESC_2021/bulk/ATAC/per_sample_integration_grn_etc/nov17_2022/input/with_filter_option_but_replicates_averaged/consensus_40k_maelstrom_op_ATAC_H3K4me2/\"\n",
    "h3k4me2 = pd.read_csv(h3k4me2_dir + 'final.out.txt',sep='\\t',index_col=0)\n",
    "\n",
    "df10_plot = df10_plot_master.loc[de_top,df10_plot_master.columns]\n",
    "\n",
    "h3k4me2_heatmap = pd.DataFrame(0.0,index=df10_plot.index,columns= ['z-score hESC', 'z-score hDE', 'z-score hAFE', 'z-score hPFE'])\n",
    "\n",
    "get_tf = []\n",
    "for entry in df10.index:\n",
    "    if entry in df10_plot.index:\n",
    "        entry2 = df10.loc[entry,'MotifName']\n",
    "        if entry2 in h3k4me2.index:\n",
    "            h3k4me2_heatmap.loc[entry,'z-score hESC'] = list(h3k4me2.loc[entry2,['z-score hESC']])[0]\n",
    "            h3k4me2_heatmap.loc[entry,'z-score hDE'] = list(h3k4me2.loc[entry2,['z-score hDE']])[0]\n",
    "            h3k4me2_heatmap.loc[entry,'z-score hAFE'] = list(h3k4me2.loc[entry2,['z-score hAFE']])[0]\n",
    "            h3k4me2_heatmap.loc[entry,'z-score hPFE'] = list(h3k4me2.loc[entry2,['z-score hPFE']])[0]\n",
    "\n",
    "h3k4me2_heatmap.index = [entry.split('|')[0].replace('GM.5.0.','') for entry in h3k4me2_heatmap.index]\n",
    "h3k4me2_heatmap.columns = ['hESC','hDE','hAFE','hPFE']\n",
    "             \n",
    "# h3k4me2_heatmap.loc[h3k4me2_heatmap.abs().max(axis=1) < 1,:] = 0\n",
    "adata_h3k4me2 = anndata.AnnData(X=h3k4me2_heatmap.T)\n",
    "adata_h3k4me2.obs['sample'] = adata_h3k4me2.obs.index\n",
    "adata_h3k4me2.var_names_make_unique()\n",
    "sc.pl.matrixplot(adata_h3k4me2,var_names=adata_h3k4me2.var.index,cmap='Oranges',# show_gene_labels=True,\n",
    "                 groupby='sample',categories_order=adata_h3k4me2.obs.index,swap_axes=True,save=\"_h3k4me2_split_de_with_histone_cut.pdf\",standard_scale='var')"
   ]
  },
  {
   "cell_type": "code",
   "execution_count": null,
   "metadata": {
    "scrolled": true
   },
   "outputs": [],
   "source": [
    "h3k27me3_dir = \"/Users/LoboM/Dropbox/sharedUMass_Macrina_Rene/hESC_2021/bulk/ATAC/per_sample_integration_grn_etc/nov17_2022/input/with_filter_option_but_replicates_averaged/consensus_40k_maelstrom_op_ATAC_H3K27me3/\"\n",
    "\n",
    "h3k27me3 = pd.read_csv(h3k27me3_dir + 'final.out.txt',sep='\\t',index_col=0)\n",
    "h3k27me3_heatmap = pd.DataFrame(0.0,index=df10_plot.index,columns= ['z-score hESC', 'z-score hDE', 'z-score hAFE', 'z-score hPFE'])\n",
    "\n",
    "df10_plot = df10_plot_master.loc[de_top,df10_plot_master.columns]\n",
    "\n",
    "\n",
    "get_tf = []\n",
    "for entry in df10.index:\n",
    "    if entry in df10_plot.index:\n",
    "        entry2 = df10.loc[entry,'MotifName']\n",
    "        if entry2 in h3k27me3.index:\n",
    "            h3k27me3_heatmap.loc[entry,'z-score hESC'] = list(h3k27me3.loc[entry2,['z-score hESC']])[0]\n",
    "            h3k27me3_heatmap.loc[entry,'z-score hDE'] = list(h3k27me3.loc[entry2,['z-score hDE']])[0]\n",
    "            h3k27me3_heatmap.loc[entry,'z-score hAFE'] = list(h3k27me3.loc[entry2,['z-score hAFE']])[0]\n",
    "            h3k27me3_heatmap.loc[entry,'z-score hPFE'] = list(h3k27me3.loc[entry2,['z-score hPFE']])[0]\n",
    "\n",
    "h3k27me3_heatmap.index = [entry.split('|')[0].replace('GM.5.0.','') for entry in h3k27me3_heatmap.index]\n",
    "h3k27me3_heatmap.columns = ['hESC','hDE','hAFE','hPFE']\n",
    "      \n",
    "# h3k27me3_heatmap.loc[h3k27me3_heatmap.abs().max(axis=1) < 1,:] = 0\n",
    "\n",
    "adata_h3k27me3 = anndata.AnnData(X=h3k27me3_heatmap.T)\n",
    "adata_h3k27me3.var_names_make_unique()\n",
    "adata_h3k27me3.obs['sample'] = adata_h3k27me3.obs.index\n",
    "sc.pl.matrixplot(adata_h3k27me3,var_names=adata_h3k27me3.var.index,cmap='Reds',# show_gene_labels=True,\n",
    "                 groupby='sample',categories_order=adata_h3k27me3.obs.index,swap_axes=True,save='_h3k27me3_split_de_with_cutoff.pdf',standard_scale='var')"
   ]
  },
  {
   "cell_type": "markdown",
   "metadata": {},
   "source": [
    "# AFE"
   ]
  },
  {
   "cell_type": "code",
   "execution_count": null,
   "metadata": {},
   "outputs": [],
   "source": []
  },
  {
   "cell_type": "code",
   "execution_count": null,
   "metadata": {},
   "outputs": [],
   "source": [
    "df10_plot = df10_plot_master.loc[afe_top,df10_plot_master.columns]"
   ]
  },
  {
   "cell_type": "code",
   "execution_count": null,
   "metadata": {},
   "outputs": [],
   "source": [
    "df10_plot.shape"
   ]
  },
  {
   "cell_type": "code",
   "execution_count": null,
   "metadata": {},
   "outputs": [],
   "source": [
    "df10_plot.index = [entry.split('|')[0].replace('GM.5.0.','') for entry in df10_plot.index]\n",
    "df10_plot.columns = ['hESC','hDE','hAFE','hPFE']"
   ]
  },
  {
   "cell_type": "code",
   "execution_count": null,
   "metadata": {},
   "outputs": [],
   "source": [
    "df10_plot.index.name = None\n",
    "import anndata\n",
    "adata = anndata.AnnData(X=df10_plot.T)\n",
    "adata.var_names_make_unique()"
   ]
  },
  {
   "cell_type": "code",
   "execution_count": null,
   "metadata": {},
   "outputs": [],
   "source": [
    "adata.obs['sample'] = adata.obs.index"
   ]
  },
  {
   "cell_type": "code",
   "execution_count": null,
   "metadata": {},
   "outputs": [],
   "source": [
    "# sc.settings.figdir='11222022_FINAL/split_rows/'"
   ]
  },
  {
   "cell_type": "code",
   "execution_count": null,
   "metadata": {},
   "outputs": [],
   "source": [
    "import seaborn as sns\n",
    "import matplotlib.pyplot as plt\n",
    "plt.rcParams['pdf.fonttype'] = 42"
   ]
  },
  {
   "cell_type": "code",
   "execution_count": null,
   "metadata": {},
   "outputs": [],
   "source": [
    "# figdir = '11222022_FINAL/split_rows/'"
   ]
  },
  {
   "cell_type": "code",
   "execution_count": null,
   "metadata": {},
   "outputs": [],
   "source": [
    "%matplotlib inline"
   ]
  },
  {
   "cell_type": "code",
   "execution_count": null,
   "metadata": {},
   "outputs": [],
   "source": []
  },
  {
   "cell_type": "code",
   "execution_count": null,
   "metadata": {},
   "outputs": [],
   "source": [
    "plt.rcParams[\"savefig.dpi\"] = 400\n",
    "plt.figure(figsize=[4,4])\n",
    "\n",
    "sc.pl.matrixplot(adata,var_names=adata.var.index,categories_order=['hESC','hDE','hAFE','hPFE'],groupby='sample',cmap='Purples',save='_split_atac_afe_name_fix.pdf',standard_scale='var',swap_axes=True)"
   ]
  },
  {
   "cell_type": "code",
   "execution_count": null,
   "metadata": {},
   "outputs": [],
   "source": [
    "# atac = vars(motif)['values_df']"
   ]
  },
  {
   "cell_type": "code",
   "execution_count": null,
   "metadata": {},
   "outputs": [],
   "source": []
  },
  {
   "cell_type": "code",
   "execution_count": null,
   "metadata": {},
   "outputs": [],
   "source": [
    "df10_plot = df10_plot_master.loc[afe_top,df10_plot_master.columns]\n",
    "df10rna_plot = df10.loc[df10_plot.index,['hES','hDE','hAFE','hPFE']]"
   ]
  },
  {
   "cell_type": "code",
   "execution_count": null,
   "metadata": {},
   "outputs": [],
   "source": [
    "df10rna_plot['TF'] = [entry.split('|')[1] for entry in df10rna_plot.index]\n",
    "df10rna_plot = df10rna_plot.set_index('TF')\n",
    "df10rna_plot.index.name = None\n",
    "df10rna_plot.columns = ['hESC','hDE','hAFE','hPFE']"
   ]
  },
  {
   "cell_type": "code",
   "execution_count": null,
   "metadata": {},
   "outputs": [],
   "source": [
    "rna_ann = df10rna_plot.T\n",
    "adata_rna = anndata.AnnData(X=rna_ann)\n",
    "adata_rna.var_names_make_unique()\n",
    "adata_rna.obs['sample'] = adata_rna.obs.index\n",
    "\n",
    "\n",
    "\n",
    "rna = sc.pl.matrixplot(adata_rna,var_names=adata_rna.var.index,cmap='cividis',# show_gene_labels=True,\n",
    "                 categories_order=['hESC','hDE','hAFE','hPFE'],groupby='sample',save='_rna_split_afe.pdf',swap_axes=True,standard_scale='var')\n"
   ]
  },
  {
   "cell_type": "code",
   "execution_count": null,
   "metadata": {},
   "outputs": [],
   "source": [
    "# rna = vars(rna)['values_df']"
   ]
  },
  {
   "cell_type": "code",
   "execution_count": null,
   "metadata": {},
   "outputs": [],
   "source": [
    "h3k27ac_dir = \"/Users/LoboM/Dropbox/sharedUMass_Macrina_Rene/hESC_2021/bulk/ATAC/per_sample_integration_grn_etc/nov17_2022/input/with_filter_option_but_replicates_averaged/consensus_40k_maelstrom_op_ATAC_H3K27ac/\"\n",
    "h3k27ac = pd.read_csv(h3k27ac_dir + 'final.out.txt',sep='\\t',index_col=0)\n",
    "h3k27ac_heatmap = pd.DataFrame(0.0,index=df10_plot.index,columns= ['z-score hESC', 'z-score hDE', 'z-score hAFE', 'z-score hPFE'])\n",
    "\n",
    "df10_plot = df10_plot_master.loc[afe_top,df10_plot_master.columns]\n",
    "\n",
    "\n",
    "get_tf = []\n",
    "for entry in df10.index:\n",
    "    if entry in df10_plot.index:\n",
    "        entry2 = df10.loc[entry,'MotifName']\n",
    "        if entry2 in h3k27ac.index:\n",
    "            h3k27ac_heatmap.loc[entry,'z-score hESC'] = list(h3k27ac.loc[entry2,['z-score hESC']])[0]\n",
    "            h3k27ac_heatmap.loc[entry,'z-score hDE'] = list(h3k27ac.loc[entry2,['z-score hDE']])[0]\n",
    "            h3k27ac_heatmap.loc[entry,'z-score hAFE'] = list(h3k27ac.loc[entry2,['z-score hAFE']])[0]\n",
    "            h3k27ac_heatmap.loc[entry,'z-score hPFE'] = list(h3k27ac.loc[entry2,['z-score hPFE']])[0]\n",
    "        \n",
    "h3k27ac_heatmap.index = [entry.split('|')[0].replace('GM.5.0.','') for entry in h3k27ac_heatmap.index]\n",
    "h3k27ac_heatmap.columns = ['hESC','hDE','hAFE','hPFE']\n",
    "       \n",
    "# h3k27ac_heatmap.loc[h3k27ac_heatmap.abs().max(axis=1) < 1,:] = 0\n",
    "adata_ac = anndata.AnnData(X=h3k27ac_heatmap.T)\n",
    "adata_ac.var_names_make_unique()\n",
    "adata_ac.obs['sample'] = adata_ac.obs.index\n",
    "h3k27ac = sc.pl.matrixplot(adata_ac,var_names=adata_ac.var.index,cmap='Greens',# show_gene_labels=True,\n",
    "                 categories_order=adata_ac.obs.index,groupby='sample',swap_axes=True,save='_split_h3k27ac_afe_with_cutoff.pdf',standard_scale='var')\n"
   ]
  },
  {
   "cell_type": "code",
   "execution_count": null,
   "metadata": {},
   "outputs": [],
   "source": [
    "# h3k27ac = vars(h3k27ac)['values_df']"
   ]
  },
  {
   "cell_type": "code",
   "execution_count": null,
   "metadata": {},
   "outputs": [],
   "source": [
    "h3k4me2_dir = \"/Users/LoboM/Dropbox/sharedUMass_Macrina_Rene/hESC_2021/bulk/ATAC/per_sample_integration_grn_etc/nov17_2022/input/with_filter_option_but_replicates_averaged/consensus_40k_maelstrom_op_ATAC_H3K4me2/\"\n",
    "h3k4me2 = pd.read_csv(h3k4me2_dir + 'final.out.txt',sep='\\t',index_col=0)\n",
    "h3k4me2_heatmap = pd.DataFrame(0.0,index=df10_plot.index,columns= ['z-score hESC', 'z-score hDE', 'z-score hAFE', 'z-score hPFE'])\n",
    "\n",
    "df10_plot = df10_plot_master.loc[afe_top,df10_plot_master.columns]\n",
    "\n",
    "\n",
    "get_tf = []\n",
    "for entry in df10.index:\n",
    "    if entry in df10_plot.index:\n",
    "        entry2 = df10.loc[entry,'MotifName']\n",
    "        if entry2 in h3k4me2.index:\n",
    "            h3k4me2_heatmap.loc[entry,'z-score hESC'] = list(h3k4me2.loc[entry2,['z-score hESC']])[0]\n",
    "            h3k4me2_heatmap.loc[entry,'z-score hDE'] = list(h3k4me2.loc[entry2,['z-score hDE']])[0]\n",
    "            h3k4me2_heatmap.loc[entry,'z-score hAFE'] = list(h3k4me2.loc[entry2,['z-score hAFE']])[0]\n",
    "            h3k4me2_heatmap.loc[entry,'z-score hPFE'] = list(h3k4me2.loc[entry2,['z-score hPFE']])[0]\n",
    "\n",
    "h3k4me2_heatmap.index = [entry.split('|')[0].replace('GM.5.0.','') for entry in h3k4me2_heatmap.index]\n",
    "h3k4me2_heatmap.columns = ['hESC','hDE','hAFE','hPFE']\n",
    "        \n",
    "# h3k4me2_heatmap.loc[h3k4me2_heatmap.abs().max(axis=1) < 1,:] = 0\n",
    "adata_h3k4me2 = anndata.AnnData(X=h3k4me2_heatmap.T)\n",
    "adata_h3k4me2.obs['sample'] = adata_h3k4me2.obs.index\n",
    "adata_h3k4me2.var_names_make_unique()\n",
    "h3k4me2 = sc.pl.matrixplot(adata_h3k4me2,var_names=adata_h3k4me2.var.index,cmap='Oranges',# show_gene_labels=True,\n",
    "                 groupby='sample',categories_order=adata_h3k4me2.obs.index,swap_axes=True,save=\"_h3k4me2_split_afe_with_cutoff.pdf\",standard_scale='var')"
   ]
  },
  {
   "cell_type": "code",
   "execution_count": null,
   "metadata": {
    "scrolled": true
   },
   "outputs": [],
   "source": [
    "h3k27me3_dir = \"/Users/LoboM/Dropbox/sharedUMass_Macrina_Rene/hESC_2021/bulk/ATAC/per_sample_integration_grn_etc/nov17_2022/input/with_filter_option_but_replicates_averaged/consensus_40k_maelstrom_op_ATAC_H3K27me3/\"\n",
    "\n",
    "h3k27me3 = pd.read_csv(h3k27me3_dir + 'final.out.txt',sep='\\t',index_col=0)\n",
    "h3k27me3_heatmap = pd.DataFrame(0.0,index=df10_plot.index,columns= ['z-score hESC', 'z-score hDE', 'z-score hAFE', 'z-score hPFE'])\n",
    "\n",
    "df10_plot = df10_plot_master.loc[afe_top,df10_plot_master.columns]\n",
    "\n",
    "\n",
    "get_tf = []\n",
    "for entry in df10.index:\n",
    "    if entry in df10_plot.index:\n",
    "        entry2 = df10.loc[entry,'MotifName']\n",
    "        if entry2 in h3k27me3.index:\n",
    "            h3k27me3_heatmap.loc[entry,'z-score hESC'] = list(h3k27me3.loc[entry2,['z-score hESC']])[0]\n",
    "            h3k27me3_heatmap.loc[entry,'z-score hDE'] = list(h3k27me3.loc[entry2,['z-score hDE']])[0]\n",
    "            h3k27me3_heatmap.loc[entry,'z-score hAFE'] = list(h3k27me3.loc[entry2,['z-score hAFE']])[0]\n",
    "            h3k27me3_heatmap.loc[entry,'z-score hPFE'] = list(h3k27me3.loc[entry2,['z-score hPFE']])[0]\n",
    "\n",
    "h3k27me3_heatmap.index = [entry.split('|')[0].replace('GM.5.0.','') for entry in h3k27me3_heatmap.index]\n",
    "h3k27me3_heatmap.columns = ['hESC','hDE','hAFE','hPFE']\n",
    "        \n",
    "# h3k27me3_heatmap.loc[h3k27me3_heatmap.abs().max(axis=1) < 1,:] = 0\n",
    "\n",
    "adata_h3k27me3 = anndata.AnnData(X=h3k27me3_heatmap.T)\n",
    "adata_h3k27me3.var_names_make_unique()\n",
    "adata_h3k27me3.obs['sample'] = adata_h3k27me3.obs.index\n",
    "sc.pl.matrixplot(adata_h3k27me3,var_names=adata_h3k27me3.var.index,cmap='Reds',# show_gene_labels=True,\n",
    "                 groupby='sample',categories_order=adata_h3k27me3.obs.index,swap_axes=True,save='_h3k27me3_split_afe_with_cutoff.pdf',standard_scale='var')"
   ]
  },
  {
   "cell_type": "markdown",
   "metadata": {},
   "source": [
    "# pfe "
   ]
  },
  {
   "cell_type": "code",
   "execution_count": null,
   "metadata": {},
   "outputs": [],
   "source": []
  },
  {
   "cell_type": "code",
   "execution_count": null,
   "metadata": {},
   "outputs": [],
   "source": [
    "df10_plot = df10_plot_master.loc[pfe_top,df10_plot_master.columns]"
   ]
  },
  {
   "cell_type": "code",
   "execution_count": null,
   "metadata": {},
   "outputs": [],
   "source": [
    "df10_plot.shape"
   ]
  },
  {
   "cell_type": "code",
   "execution_count": null,
   "metadata": {},
   "outputs": [],
   "source": [
    "df10_plot.index = [entry.split('|')[0].replace('GM.5.0.','') for entry in df10_plot.index]\n",
    "df10_plot.columns = ['hESC','hDE','hAFE','hPFE']"
   ]
  },
  {
   "cell_type": "code",
   "execution_count": null,
   "metadata": {},
   "outputs": [],
   "source": [
    "df10_plot.index.name = None\n",
    "import anndata\n",
    "adata = anndata.AnnData(X=df10_plot.T)\n",
    "adata.var_names_make_unique()"
   ]
  },
  {
   "cell_type": "code",
   "execution_count": null,
   "metadata": {},
   "outputs": [],
   "source": [
    "adata.obs['sample'] = adata.obs.index"
   ]
  },
  {
   "cell_type": "code",
   "execution_count": null,
   "metadata": {},
   "outputs": [],
   "source": [
    "# sc.settings.figdir='11222022_FINAL/split_rows/'"
   ]
  },
  {
   "cell_type": "code",
   "execution_count": null,
   "metadata": {},
   "outputs": [],
   "source": [
    "import seaborn as sns\n",
    "import matplotlib.pyplot as plt\n",
    "plt.rcParams['pdf.fonttype'] = 42"
   ]
  },
  {
   "cell_type": "code",
   "execution_count": null,
   "metadata": {},
   "outputs": [],
   "source": [
    "# figdir = '11222022_FINAL/split_rows/'"
   ]
  },
  {
   "cell_type": "code",
   "execution_count": null,
   "metadata": {},
   "outputs": [],
   "source": [
    "%matplotlib inline"
   ]
  },
  {
   "cell_type": "code",
   "execution_count": null,
   "metadata": {},
   "outputs": [],
   "source": []
  },
  {
   "cell_type": "code",
   "execution_count": null,
   "metadata": {},
   "outputs": [],
   "source": [
    "plt.rcParams[\"savefig.dpi\"] = 400\n",
    "plt.figure(figsize=[4,8])\n",
    "\n",
    "sc.pl.matrixplot(adata,var_names=adata.var.index,categories_order=['hESC','hDE','hAFE','hPFE'],groupby='sample',cmap='Purples',save='_split_atac_pfe_name_fix.pdf',standard_scale='var',swap_axes=True)"
   ]
  },
  {
   "cell_type": "code",
   "execution_count": null,
   "metadata": {},
   "outputs": [],
   "source": [
    "# atac = vars(motif)['values_df']"
   ]
  },
  {
   "cell_type": "code",
   "execution_count": null,
   "metadata": {},
   "outputs": [],
   "source": [
    "df10_plot = df10_plot_master.loc[pfe_top,df10_plot_master.columns]\n",
    "\n",
    "df10rna_plot = df10.loc[df10_plot.index,['hES','hDE','hAFE','hPFE']]"
   ]
  },
  {
   "cell_type": "code",
   "execution_count": null,
   "metadata": {},
   "outputs": [],
   "source": [
    "df10rna_plot['TF'] = [entry.split('|')[1] for entry in df10rna_plot.index]\n",
    "df10rna_plot = df10rna_plot.set_index('TF')\n",
    "df10rna_plot.index.name = None\n",
    "df10rna_plot.columns = ['hESC','hDE','hAFE','hPFE']"
   ]
  },
  {
   "cell_type": "code",
   "execution_count": null,
   "metadata": {},
   "outputs": [],
   "source": [
    "rna_ann = df10rna_plot.T\n",
    "adata_rna = anndata.AnnData(X=rna_ann)\n",
    "adata_rna.var_names_make_unique()\n",
    "adata_rna.obs['sample'] = adata_rna.obs.index\n",
    "\n",
    "\n",
    "\n",
    "rna = sc.pl.matrixplot(adata_rna,var_names=adata_rna.var.index,cmap='cividis',# show_gene_labels=True,\n",
    "                 categories_order=['hESC','hDE','hAFE','hPFE'],groupby='sample',save='_rna_split_pfe.pdf',swap_axes=True,standard_scale='var')\n"
   ]
  },
  {
   "cell_type": "code",
   "execution_count": null,
   "metadata": {},
   "outputs": [],
   "source": [
    "# rna = vars(rna)['values_df']"
   ]
  },
  {
   "cell_type": "code",
   "execution_count": null,
   "metadata": {},
   "outputs": [],
   "source": [
    "h3k27ac_dir = \"/Users/LoboM/Dropbox/sharedUMass_Macrina_Rene/hESC_2021/bulk/ATAC/per_sample_integration_grn_etc/nov17_2022/input/with_filter_option_but_replicates_averaged/consensus_40k_maelstrom_op_ATAC_H3K27ac/\"\n",
    "h3k27ac = pd.read_csv(h3k27ac_dir + 'final.out.txt',sep='\\t',index_col=0)\n",
    "h3k27ac_heatmap = pd.DataFrame(0.0,index=df10_plot.index,columns= ['z-score hESC', 'z-score hDE', 'z-score hAFE', 'z-score hPFE'])\n",
    "\n",
    "df10_plot = df10_plot_master.loc[pfe_top,df10_plot_master.columns]\n",
    "\n",
    "\n",
    "get_tf = []\n",
    "for entry in df10.index:\n",
    "    if entry in df10_plot.index:\n",
    "        entry2 = df10.loc[entry,'MotifName']\n",
    "        if entry2 in h3k27ac.index:\n",
    "            h3k27ac_heatmap.loc[entry,'z-score hESC'] = list(h3k27ac.loc[entry2,['z-score hESC']])[0]\n",
    "            h3k27ac_heatmap.loc[entry,'z-score hDE'] = list(h3k27ac.loc[entry2,['z-score hDE']])[0]\n",
    "            h3k27ac_heatmap.loc[entry,'z-score hAFE'] = list(h3k27ac.loc[entry2,['z-score hAFE']])[0]\n",
    "            h3k27ac_heatmap.loc[entry,'z-score hPFE'] = list(h3k27ac.loc[entry2,['z-score hPFE']])[0]\n",
    "        \n",
    "h3k27ac_heatmap.index = [entry.split('|')[0].replace('GM.5.0.','') for entry in h3k27ac_heatmap.index]\n",
    "h3k27ac_heatmap.columns = ['hESC','hDE','hAFE','hPFE']\n",
    "        \n",
    "     \n",
    "# h3k27ac_heatmap.loc[h3k27ac_heatmap.abs().max(axis=1) < 1,:] = 0\n",
    "adata_ac = anndata.AnnData(X=h3k27ac_heatmap.T)\n",
    "adata_ac.var_names_make_unique()\n",
    "adata_ac.obs['sample'] = adata_ac.obs.index\n",
    "h3k27ac = sc.pl.matrixplot(adata_ac,var_names=adata_ac.var.index,cmap='Greens',# show_gene_labels=True,\n",
    "                 categories_order=adata_ac.obs.index,groupby='sample',swap_axes=True,save='_split_h3k27ac_pfe_with_cutoff.pdf',standard_scale='var')\n"
   ]
  },
  {
   "cell_type": "code",
   "execution_count": null,
   "metadata": {},
   "outputs": [],
   "source": [
    "# h3k27ac = vars(h3k27ac)['values_df']"
   ]
  },
  {
   "cell_type": "code",
   "execution_count": null,
   "metadata": {},
   "outputs": [],
   "source": [
    "h3k4me2_dir = \"/Users/LoboM/Dropbox/sharedUMass_Macrina_Rene/hESC_2021/bulk/ATAC/per_sample_integration_grn_etc/nov17_2022/input/with_filter_option_but_replicates_averaged/consensus_40k_maelstrom_op_ATAC_H3K4me2/\"\n",
    "h3k4me2 = pd.read_csv(h3k4me2_dir + 'final.out.txt',sep='\\t',index_col=0)\n",
    "h3k4me2_heatmap = pd.DataFrame(0.0,index=df10_plot.index,columns= ['z-score hESC', 'z-score hDE', 'z-score hAFE', 'z-score hPFE'])\n",
    "\n",
    "df10_plot = df10_plot_master.loc[pfe_top,df10_plot_master.columns]\n",
    "\n",
    "get_tf = []\n",
    "for entry in df10.index:\n",
    "    if entry in df10_plot.index:\n",
    "        entry2 = df10.loc[entry,'MotifName']\n",
    "        if entry2 in h3k4me2.index:\n",
    "            h3k4me2_heatmap.loc[entry,'z-score hESC'] = list(h3k4me2.loc[entry2,['z-score hESC']])[0]\n",
    "            h3k4me2_heatmap.loc[entry,'z-score hDE'] = list(h3k4me2.loc[entry2,['z-score hDE']])[0]\n",
    "            h3k4me2_heatmap.loc[entry,'z-score hAFE'] = list(h3k4me2.loc[entry2,['z-score hAFE']])[0]\n",
    "            h3k4me2_heatmap.loc[entry,'z-score hPFE'] = list(h3k4me2.loc[entry2,['z-score hPFE']])[0]\n",
    "        \n",
    "h3k4me2_heatmap.index = [entry.split('|')[0].replace('GM.5.0.','') for entry in h3k4me2_heatmap.index]\n",
    "h3k4me2_heatmap.columns = ['hESC','hDE','hAFE','hPFE']\n",
    "        \n",
    "# h3k4me2_heatmap.loc[h3k4me2_heatmap.abs().max(axis=1) < 1,:] = 0\n",
    "adata_h3k4me2 = anndata.AnnData(X=h3k4me2_heatmap.T)\n",
    "adata_h3k4me2.obs['sample'] = adata_h3k4me2.obs.index\n",
    "adata_h3k4me2.var_names_make_unique()\n",
    "h3k4me2 = sc.pl.matrixplot(adata_h3k4me2,var_names=adata_h3k4me2.var.index,cmap='Oranges',# show_gene_labels=True,\n",
    "                 groupby='sample',categories_order=adata_h3k4me2.obs.index,swap_axes=True,save=\"_h3k4me2_split_pfe_with_cutoff.pdf\",standard_scale='var')"
   ]
  },
  {
   "cell_type": "code",
   "execution_count": null,
   "metadata": {
    "scrolled": false
   },
   "outputs": [],
   "source": [
    "h3k27me3_dir = \"/Users/LoboM/Dropbox/sharedUMass_Macrina_Rene/hESC_2021/bulk/ATAC/per_sample_integration_grn_etc/nov17_2022/input/with_filter_option_but_replicates_averaged/consensus_40k_maelstrom_op_ATAC_H3K27me3/\"\n",
    "\n",
    "h3k27me3 = pd.read_csv(h3k27me3_dir + 'final.out.txt',sep='\\t',index_col=0)\n",
    "h3k27me3_heatmap = pd.DataFrame(0.0,index=df10_plot.index,columns= ['z-score hESC', 'z-score hDE', 'z-score hAFE', 'z-score hPFE'])\n",
    "\n",
    "df10_plot = df10_plot_master.loc[pfe_top,df10_plot_master.columns]\n",
    "\n",
    "\n",
    "get_tf = []\n",
    "for entry in df10.index:\n",
    "    if entry in df10_plot.index:\n",
    "        entry2 = df10.loc[entry,'MotifName']\n",
    "        if entry2 in h3k27me3.index:\n",
    "            h3k27me3_heatmap.loc[entry,'z-score hESC'] = list(h3k27me3.loc[entry2,['z-score hESC']])[0]\n",
    "            h3k27me3_heatmap.loc[entry,'z-score hDE'] = list(h3k27me3.loc[entry2,['z-score hDE']])[0]\n",
    "            h3k27me3_heatmap.loc[entry,'z-score hAFE'] = list(h3k27me3.loc[entry2,['z-score hAFE']])[0]\n",
    "            h3k27me3_heatmap.loc[entry,'z-score hPFE'] = list(h3k27me3.loc[entry2,['z-score hPFE']])[0]\n",
    "\n",
    "h3k27me3_heatmap.index = [entry.split('|')[0].replace('GM.5.0.','') for entry in h3k27me3_heatmap.index]\n",
    "h3k27me3_heatmap.columns = ['hESC','hDE','hAFE','hPFE']\n",
    " \n",
    "# h3k27me3_heatmap.loc[h3k27me3_heatmap.abs().max(axis=1) < 1,:] = 0\n",
    "\n",
    "adata_h3k27me3 = anndata.AnnData(X=h3k27me3_heatmap.T)\n",
    "adata_h3k27me3.var_names_make_unique()\n",
    "adata_h3k27me3.obs['sample'] = adata_h3k27me3.obs.index\n",
    "sc.pl.matrixplot(adata_h3k27me3,var_names=adata_h3k27me3.var.index,cmap='Reds',# show_gene_labels=True,\n",
    "                 groupby='sample',categories_order=adata_h3k27me3.obs.index,swap_axes=True,save='_h3k27me3_split_pfe_with_cutoff.pdf',standard_scale='var')"
   ]
  },
  {
   "cell_type": "code",
   "execution_count": null,
   "metadata": {},
   "outputs": [],
   "source": []
  }
 ],
 "metadata": {
  "kernelspec": {
   "display_name": "Python 3",
   "language": "python",
   "name": "python3"
  },
  "language_info": {
   "codemirror_mode": {
    "name": "ipython",
    "version": 3
   },
   "file_extension": ".py",
   "mimetype": "text/x-python",
   "name": "python",
   "nbconvert_exporter": "python",
   "pygments_lexer": "ipython3",
   "version": "3.8.4"
  }
 },
 "nbformat": 4,
 "nbformat_minor": 5
}
